{
 "cells": [
  {
   "cell_type": "code",
   "execution_count": null,
   "metadata": {},
   "outputs": [],
   "source": []
  },
  {
   "cell_type": "code",
   "execution_count": 1,
   "metadata": {},
   "outputs": [],
   "source": [
    "# Import libraries\n",
    "\n",
    "# Usual libraries\n",
    "import pandas as pd\n",
    "import numpy as np\n",
    "import matplotlib.pyplot as plt\n",
    "import time\n",
    "import re\n",
    "import string\n",
    "import random\n",
    "\n",
    "# NLTK\n",
    "import nltk\n",
    "from nltk.tokenize import regexp_tokenize\n",
    "from nltk.corpus import stopwords\n",
    "from nltk.stem import WordNetLemmatizer\n",
    "from nltk.sentiment.vader import SentimentIntensityAnalyzer\n",
    "analyzer = SentimentIntensityAnalyzer()\n",
    "\n",
    "# Assigning variables\n",
    "lemmatizer = nltk.stem.WordNetLemmatizer()\n",
    "w_tokenizer = nltk.tokenize.WhitespaceTokenizer()\n",
    "stop_words = stopwords.words('english')\n",
    "\n",
    "# Scikit-learn\n",
    "from sklearn.model_selection import train_test_split\n",
    "from sklearn.metrics import accuracy_score, precision_score, recall_score\n",
    "from sklearn.metrics import confusion_matrix, classification_report\n",
    "from sklearn.metrics import f1_score, recall_score, precision_score, confusion_matrix, classification_report\n",
    "from sklearn.model_selection import cross_val_score\n",
    "from sklearn.decomposition import TruncatedSVD\n",
    "from sklearn.feature_extraction.text import TfidfVectorizer\n",
    "\n",
    "# Models\n",
    "from sklearn.linear_model import LogisticRegression\n",
    "import xgboost as xgb\n",
    "import lightgbm as gbm\n",
    "from lightgbm import LGBMClassifier\n",
    "from sklearn.neighbors import KNeighborsClassifier\n",
    "\n",
    "# Doc/Word Vectors\n",
    "from gensim.models.fasttext import FastText\n",
    "from gensim.models.doc2vec import Doc2Vec, TaggedDocument\n",
    "from gensim.models import Word2Vec\n",
    "from gensim.utils import simple_preprocess\n",
    "from gensim.corpora import Dictionary\n",
    "\n",
    "# LDA and LSI Models\n",
    "from sklearn.decomposition import LatentDirichletAllocation as LDA\n",
    "from gensim.models import LsiModel, CoherenceModel\n",
    "from gensim.models import TfidfModel\n",
    "from gensim.models import LdaModel, LdaMulticore\n",
    "from gensim import corpora, models\n",
    "import pyLDAvis\n",
    "import pyLDAvis.gensim_models as gensimvis\n",
    "pyLDAvis.enable_notebook()\n",
    "\n",
    "# Spacy\n",
    "import spacy\n",
    "from spacy.lang.en.examples import sentences\n",
    "from spacy import displacy\n",
    "from spacytextblob.spacytextblob import SpacyTextBlob\n",
    "nlp = spacy.load(\"en_core_web_sm\")\n",
    "nlp.add_pipe('spacytextblob')\n",
    "stopwords_nlp = nlp.Defaults.stop_words\n",
    "\n",
    "# LIME and SHAP\n",
    "from sklearn.pipeline import make_pipeline\n",
    "from lime.lime_text import LimeTextExplainer\n",
    "import shap\n",
    "\n",
    "# Set seed\n",
    "np.random.seed(123)"
   ]
  },
  {
   "cell_type": "code",
   "execution_count": 4,
   "metadata": {},
   "outputs": [
    {
     "data": {
      "text/html": [
       "<div>\n",
       "<style scoped>\n",
       "    .dataframe tbody tr th:only-of-type {\n",
       "        vertical-align: middle;\n",
       "    }\n",
       "\n",
       "    .dataframe tbody tr th {\n",
       "        vertical-align: top;\n",
       "    }\n",
       "\n",
       "    .dataframe thead th {\n",
       "        text-align: right;\n",
       "    }\n",
       "</style>\n",
       "<table border=\"1\" class=\"dataframe\">\n",
       "  <thead>\n",
       "    <tr style=\"text-align: right;\">\n",
       "      <th></th>\n",
       "      <th>Name</th>\n",
       "      <th>Comment</th>\n",
       "      <th>Time</th>\n",
       "      <th>Likes</th>\n",
       "      <th>Reply Count</th>\n",
       "    </tr>\n",
       "  </thead>\n",
       "  <tbody>\n",
       "    <tr>\n",
       "      <th>0</th>\n",
       "      <td>Guardian News</td>\n",
       "      <td>Iranian schoolgirl ‘beaten to death for refusi...</td>\n",
       "      <td>2022-10-19T09:42:51Z</td>\n",
       "      <td>8.0</td>\n",
       "      <td>2.0</td>\n",
       "    </tr>\n",
       "    <tr>\n",
       "      <th>1</th>\n",
       "      <td>silent majority</td>\n",
       "      <td>One more reason why IS lam not compatible for...</td>\n",
       "      <td>2022-10-19T21:11:37Z</td>\n",
       "      <td>NaN</td>\n",
       "      <td>NaN</td>\n",
       "    </tr>\n",
       "    <tr>\n",
       "      <th>2</th>\n",
       "      <td>Good</td>\n",
       "      <td>Free Iran</td>\n",
       "      <td>2022-10-22T22:05:44Z</td>\n",
       "      <td>0.0</td>\n",
       "      <td>0.0</td>\n",
       "    </tr>\n",
       "    <tr>\n",
       "      <th>3</th>\n",
       "      <td>Spencer Brown</td>\n",
       "      <td>This abhorrent, evil, archaic regime is killin...</td>\n",
       "      <td>2022-10-22T16:33:27Z</td>\n",
       "      <td>0.0</td>\n",
       "      <td>0.0</td>\n",
       "    </tr>\n",
       "    <tr>\n",
       "      <th>4</th>\n",
       "      <td>sunita thind</td>\n",
       "      <td>I have no words. Grateful to have freedoms 🇬🇧h...</td>\n",
       "      <td>2022-10-22T08:54:14Z</td>\n",
       "      <td>1.0</td>\n",
       "      <td>0.0</td>\n",
       "    </tr>\n",
       "  </tbody>\n",
       "</table>\n",
       "</div>"
      ],
      "text/plain": [
       "               Name                                            Comment  \\\n",
       "0    Guardian News   Iranian schoolgirl ‘beaten to death for refusi...   \n",
       "1   silent majority   One more reason why IS lam not compatible for...   \n",
       "2             Good                                          Free Iran    \n",
       "3    Spencer Brown   This abhorrent, evil, archaic regime is killin...   \n",
       "4     sunita thind   I have no words. Grateful to have freedoms 🇬🇧h...   \n",
       "\n",
       "                   Time  Likes  Reply Count  \n",
       "0  2022-10-19T09:42:51Z    8.0          2.0  \n",
       "1  2022-10-19T21:11:37Z    NaN          NaN  \n",
       "2  2022-10-22T22:05:44Z    0.0          0.0  \n",
       "3  2022-10-22T16:33:27Z    0.0          0.0  \n",
       "4  2022-10-22T08:54:14Z    1.0          0.0  "
      ]
     },
     "execution_count": 4,
     "metadata": {},
     "output_type": "execute_result"
    }
   ],
   "source": [
    "# Import datasets\n",
    "df = pd.read_csv(r'C:\\Users\\Scott\\Box\\Shyam\\01_Shyam_Personal\\Text Mining\\Twitter\\IranUnrest_YoutubeFinalData.csv')\n",
    "df.head()"
   ]
  },
  {
   "cell_type": "markdown",
   "metadata": {},
   "source": [
    "## Data Cleaning"
   ]
  },
  {
   "cell_type": "code",
   "execution_count": 5,
   "metadata": {},
   "outputs": [
    {
     "name": "stdout",
     "output_type": "stream",
     "text": [
      "14988\n",
      "14988\n"
     ]
    }
   ],
   "source": [
    "# Check for duplicates and drop them\n",
    "print(len(df))\n",
    "df.drop_duplicates(['Comment'])\n",
    "print(len(df))"
   ]
  },
  {
   "cell_type": "code",
   "execution_count": 6,
   "metadata": {},
   "outputs": [
    {
     "data": {
      "text/html": [
       "<div>\n",
       "<style scoped>\n",
       "    .dataframe tbody tr th:only-of-type {\n",
       "        vertical-align: middle;\n",
       "    }\n",
       "\n",
       "    .dataframe tbody tr th {\n",
       "        vertical-align: top;\n",
       "    }\n",
       "\n",
       "    .dataframe thead th {\n",
       "        text-align: right;\n",
       "    }\n",
       "</style>\n",
       "<table border=\"1\" class=\"dataframe\">\n",
       "  <thead>\n",
       "    <tr style=\"text-align: right;\">\n",
       "      <th></th>\n",
       "      <th>Name</th>\n",
       "      <th>Comment</th>\n",
       "      <th>Time</th>\n",
       "      <th>Likes</th>\n",
       "      <th>Reply Count</th>\n",
       "      <th>cleaned_tweet</th>\n",
       "    </tr>\n",
       "  </thead>\n",
       "  <tbody>\n",
       "    <tr>\n",
       "      <th>0</th>\n",
       "      <td>Guardian News</td>\n",
       "      <td>Iranian schoolgirl ‘beaten to death for refusi...</td>\n",
       "      <td>2022-10-19T09:42:51Z</td>\n",
       "      <td>8.0</td>\n",
       "      <td>2.0</td>\n",
       "      <td>iranian schoolgirl beaten death refusing sing ...</td>\n",
       "    </tr>\n",
       "    <tr>\n",
       "      <th>1</th>\n",
       "      <td>silent majority</td>\n",
       "      <td>One more reason why IS lam not compatible for...</td>\n",
       "      <td>2022-10-19T21:11:37Z</td>\n",
       "      <td>NaN</td>\n",
       "      <td>NaN</td>\n",
       "      <td>one reason lam compatible western democracy br...</td>\n",
       "    </tr>\n",
       "    <tr>\n",
       "      <th>2</th>\n",
       "      <td>Good</td>\n",
       "      <td>Free Iran</td>\n",
       "      <td>2022-10-22T22:05:44Z</td>\n",
       "      <td>0.0</td>\n",
       "      <td>0.0</td>\n",
       "      <td>free iran</td>\n",
       "    </tr>\n",
       "    <tr>\n",
       "      <th>3</th>\n",
       "      <td>Spencer Brown</td>\n",
       "      <td>This abhorrent, evil, archaic regime is killin...</td>\n",
       "      <td>2022-10-22T16:33:27Z</td>\n",
       "      <td>0.0</td>\n",
       "      <td>0.0</td>\n",
       "      <td>abhorrent evil archaic regime killing woman sc...</td>\n",
       "    </tr>\n",
       "    <tr>\n",
       "      <th>4</th>\n",
       "      <td>sunita thind</td>\n",
       "      <td>I have no words. Grateful to have freedoms 🇬🇧h...</td>\n",
       "      <td>2022-10-22T08:54:14Z</td>\n",
       "      <td>1.0</td>\n",
       "      <td>0.0</td>\n",
       "      <td>word grateful freedom many beautiful innocent ...</td>\n",
       "    </tr>\n",
       "  </tbody>\n",
       "</table>\n",
       "</div>"
      ],
      "text/plain": [
       "               Name                                            Comment  \\\n",
       "0    Guardian News   Iranian schoolgirl ‘beaten to death for refusi...   \n",
       "1   silent majority   One more reason why IS lam not compatible for...   \n",
       "2             Good                                          Free Iran    \n",
       "3    Spencer Brown   This abhorrent, evil, archaic regime is killin...   \n",
       "4     sunita thind   I have no words. Grateful to have freedoms 🇬🇧h...   \n",
       "\n",
       "                   Time  Likes  Reply Count  \\\n",
       "0  2022-10-19T09:42:51Z    8.0          2.0   \n",
       "1  2022-10-19T21:11:37Z    NaN          NaN   \n",
       "2  2022-10-22T22:05:44Z    0.0          0.0   \n",
       "3  2022-10-22T16:33:27Z    0.0          0.0   \n",
       "4  2022-10-22T08:54:14Z    1.0          0.0   \n",
       "\n",
       "                                       cleaned_tweet  \n",
       "0  iranian schoolgirl beaten death refusing sing ...  \n",
       "1  one reason lam compatible western democracy br...  \n",
       "2                                          free iran  \n",
       "3  abhorrent evil archaic regime killing woman sc...  \n",
       "4  word grateful freedom many beautiful innocent ...  "
      ]
     },
     "execution_count": 6,
     "metadata": {},
     "output_type": "execute_result"
    }
   ],
   "source": [
    "# Loop through the column and clean the data\n",
    "\n",
    "new_text = []\n",
    "\n",
    "for text in df['Comment']:\n",
    "    text = re.sub(r'[!\"#$%&()*+,-./:;<=>?[\\]^_`{|}~]', ' ', text).lower()               # Remove punctuation and make the letters lowercase\n",
    "        \n",
    "    words = nltk.tokenize.word_tokenize(text)                                           # Tokenize the text\n",
    "    words = [w for w in words if w.isalpha()]                                           # Ensure the data is alphabets (remove numbers)\n",
    "    words = [w for w in words if len(w)>1 and w not in stopwords.words('english')]      # Remove words that are less than 2 characters and stop words as well\n",
    "        \n",
    "    words = [lemmatizer.lemmatize(w) for w in words]                                    # Lemmatize the words\n",
    "    new_text.append(' '.join(words))\n",
    "\n",
    "# Make a copy of the original dataframe and add the cleaned text into a new column\n",
    "df['cleaned_tweet'] = new_text\n",
    "df.head()"
   ]
  },
  {
   "cell_type": "markdown",
   "metadata": {},
   "source": [
    "## EDA"
   ]
  },
  {
   "cell_type": "code",
   "execution_count": 7,
   "metadata": {},
   "outputs": [
    {
     "data": {
      "text/plain": [
       "0.0     7736\n",
       "1.0     1782\n",
       "2.0      442\n",
       "3.0      157\n",
       "4.0      102\n",
       "6.0       68\n",
       "5.0       63\n",
       "8.0       36\n",
       "7.0       32\n",
       "10.0      28\n",
       "Name: Likes, dtype: int64"
      ]
     },
     "execution_count": 7,
     "metadata": {},
     "output_type": "execute_result"
    }
   ],
   "source": [
    "# Count the number of likes a post has received\n",
    "df['Likes'].value_counts().nlargest(10)"
   ]
  },
  {
   "cell_type": "code",
   "execution_count": 8,
   "metadata": {},
   "outputs": [
    {
     "data": {
      "text/plain": [
       "0.0    9591\n",
       "1.0     726\n",
       "2.0     203\n",
       "3.0      96\n",
       "4.0      45\n",
       "7.0      24\n",
       "6.0      24\n",
       "5.0      22\n",
       "9.0      18\n",
       "8.0      12\n",
       "Name: Reply Count, dtype: int64"
      ]
     },
     "execution_count": 8,
     "metadata": {},
     "output_type": "execute_result"
    }
   ],
   "source": [
    "df['Reply Count'].value_counts().nlargest(10)"
   ]
  },
  {
   "cell_type": "markdown",
   "metadata": {},
   "source": [
    "## Sentiment Analysis"
   ]
  },
  {
   "cell_type": "code",
   "execution_count": 9,
   "metadata": {},
   "outputs": [],
   "source": [
    "# Creating a copy of the dataframe\n",
    "df_sentiment = df.copy()"
   ]
  },
  {
   "cell_type": "code",
   "execution_count": 10,
   "metadata": {},
   "outputs": [
    {
     "data": {
      "text/html": [
       "<div>\n",
       "<style scoped>\n",
       "    .dataframe tbody tr th:only-of-type {\n",
       "        vertical-align: middle;\n",
       "    }\n",
       "\n",
       "    .dataframe tbody tr th {\n",
       "        vertical-align: top;\n",
       "    }\n",
       "\n",
       "    .dataframe thead th {\n",
       "        text-align: right;\n",
       "    }\n",
       "</style>\n",
       "<table border=\"1\" class=\"dataframe\">\n",
       "  <thead>\n",
       "    <tr style=\"text-align: right;\">\n",
       "      <th></th>\n",
       "      <th>Name</th>\n",
       "      <th>Comment</th>\n",
       "      <th>Time</th>\n",
       "      <th>Likes</th>\n",
       "      <th>Reply Count</th>\n",
       "      <th>cleaned_tweet</th>\n",
       "      <th>compound</th>\n",
       "      <th>positive</th>\n",
       "      <th>negative</th>\n",
       "    </tr>\n",
       "  </thead>\n",
       "  <tbody>\n",
       "    <tr>\n",
       "      <th>0</th>\n",
       "      <td>Guardian News</td>\n",
       "      <td>Iranian schoolgirl ‘beaten to death for refusi...</td>\n",
       "      <td>2022-10-19T09:42:51Z</td>\n",
       "      <td>8.0</td>\n",
       "      <td>2.0</td>\n",
       "      <td>iranian schoolgirl beaten death refusing sing ...</td>\n",
       "      <td>-0.7650</td>\n",
       "      <td>0.000</td>\n",
       "      <td>0.375</td>\n",
       "    </tr>\n",
       "    <tr>\n",
       "      <th>1</th>\n",
       "      <td>silent majority</td>\n",
       "      <td>One more reason why IS lam not compatible for...</td>\n",
       "      <td>2022-10-19T21:11:37Z</td>\n",
       "      <td>NaN</td>\n",
       "      <td>NaN</td>\n",
       "      <td>one reason lam compatible western democracy br...</td>\n",
       "      <td>0.5423</td>\n",
       "      <td>0.156</td>\n",
       "      <td>0.000</td>\n",
       "    </tr>\n",
       "    <tr>\n",
       "      <th>2</th>\n",
       "      <td>Good</td>\n",
       "      <td>Free Iran</td>\n",
       "      <td>2022-10-22T22:05:44Z</td>\n",
       "      <td>0.0</td>\n",
       "      <td>0.0</td>\n",
       "      <td>free iran</td>\n",
       "      <td>0.5106</td>\n",
       "      <td>0.767</td>\n",
       "      <td>0.000</td>\n",
       "    </tr>\n",
       "    <tr>\n",
       "      <th>3</th>\n",
       "      <td>Spencer Brown</td>\n",
       "      <td>This abhorrent, evil, archaic regime is killin...</td>\n",
       "      <td>2022-10-22T16:33:27Z</td>\n",
       "      <td>0.0</td>\n",
       "      <td>0.0</td>\n",
       "      <td>abhorrent evil archaic regime killing woman sc...</td>\n",
       "      <td>-0.9601</td>\n",
       "      <td>0.000</td>\n",
       "      <td>0.634</td>\n",
       "    </tr>\n",
       "    <tr>\n",
       "      <th>4</th>\n",
       "      <td>sunita thind</td>\n",
       "      <td>I have no words. Grateful to have freedoms 🇬🇧h...</td>\n",
       "      <td>2022-10-22T08:54:14Z</td>\n",
       "      <td>1.0</td>\n",
       "      <td>0.0</td>\n",
       "      <td>word grateful freedom many beautiful innocent ...</td>\n",
       "      <td>0.7146</td>\n",
       "      <td>0.414</td>\n",
       "      <td>0.209</td>\n",
       "    </tr>\n",
       "  </tbody>\n",
       "</table>\n",
       "</div>"
      ],
      "text/plain": [
       "               Name                                            Comment  \\\n",
       "0    Guardian News   Iranian schoolgirl ‘beaten to death for refusi...   \n",
       "1   silent majority   One more reason why IS lam not compatible for...   \n",
       "2             Good                                          Free Iran    \n",
       "3    Spencer Brown   This abhorrent, evil, archaic regime is killin...   \n",
       "4     sunita thind   I have no words. Grateful to have freedoms 🇬🇧h...   \n",
       "\n",
       "                   Time  Likes  Reply Count  \\\n",
       "0  2022-10-19T09:42:51Z    8.0          2.0   \n",
       "1  2022-10-19T21:11:37Z    NaN          NaN   \n",
       "2  2022-10-22T22:05:44Z    0.0          0.0   \n",
       "3  2022-10-22T16:33:27Z    0.0          0.0   \n",
       "4  2022-10-22T08:54:14Z    1.0          0.0   \n",
       "\n",
       "                                       cleaned_tweet  compound  positive  \\\n",
       "0  iranian schoolgirl beaten death refusing sing ...   -0.7650     0.000   \n",
       "1  one reason lam compatible western democracy br...    0.5423     0.156   \n",
       "2                                          free iran    0.5106     0.767   \n",
       "3  abhorrent evil archaic regime killing woman sc...   -0.9601     0.000   \n",
       "4  word grateful freedom many beautiful innocent ...    0.7146     0.414   \n",
       "\n",
       "   negative  \n",
       "0     0.375  \n",
       "1     0.000  \n",
       "2     0.000  \n",
       "3     0.634  \n",
       "4     0.209  "
      ]
     },
     "execution_count": 10,
     "metadata": {},
     "output_type": "execute_result"
    }
   ],
   "source": [
    "df_sentiment['compound'] = df_sentiment['Comment'].apply(lambda x:SentimentIntensityAnalyzer().polarity_scores(x)['compound'])\n",
    "df_sentiment['positive'] = df_sentiment['Comment'].apply(lambda x:SentimentIntensityAnalyzer().polarity_scores(x)['pos'])\n",
    "df_sentiment['negative'] = df_sentiment['Comment'].apply(lambda x:SentimentIntensityAnalyzer().polarity_scores(x)['neg'])\n",
    "df_sentiment.head()"
   ]
  },
  {
   "cell_type": "code",
   "execution_count": 11,
   "metadata": {},
   "outputs": [
    {
     "name": "stdout",
     "output_type": "stream",
     "text": [
      "Compound: -0.012537630104083035\n",
      "Positive: 0.1328261942887642\n",
      "Negative: 0.12094462236455907\n"
     ]
    }
   ],
   "source": [
    "print('Compound:', df_sentiment['compound'].mean())\n",
    "print('Positive:', df_sentiment['positive'].mean())\n",
    "print('Negative:', df_sentiment['negative'].mean())"
   ]
  },
  {
   "cell_type": "code",
   "execution_count": 12,
   "metadata": {},
   "outputs": [
    {
     "data": {
      "text/plain": [
       "Text(0.5, 1.0, 'Polarity Score Distribution')"
      ]
     },
     "execution_count": 12,
     "metadata": {},
     "output_type": "execute_result"
    },
    {
     "data": {
      "image/png": "[encoded data removed]",
      "text/plain": [
       "<Figure size 720x360 with 1 Axes>"
      ]
     },
     "metadata": {
      "needs_background": "light"
     },
     "output_type": "display_data"
    }
   ],
   "source": [
    "plt.figure(figsize=(10,5))\n",
    "plt.hist(df_sentiment['compound'], bins = 50, color = '#006B66')\n",
    "# plt.ylim(0,200)\n",
    "plt.title('Polarity Score Distribution')"
   ]
  },
  {
   "cell_type": "code",
   "execution_count": 13,
   "metadata": {},
   "outputs": [],
   "source": [
    "# Trying Spacy\n",
    "# lets create a new column with the sentiment of the comment\n",
    "\n",
    "df_sentiment['sentiment'] = df_sentiment['Comment'].apply(lambda x: nlp(x)._.blob.polarity)"
   ]
  },
  {
   "cell_type": "code",
   "execution_count": 14,
   "metadata": {},
   "outputs": [
    {
     "name": "stdout",
     "output_type": "stream",
     "text": [
      "Text Blob Polartiy Score: 0.04845205622708246\n"
     ]
    }
   ],
   "source": [
    "print('Text Blob Polartiy Score:', df_sentiment['sentiment'].mean())"
   ]
  },
  {
   "cell_type": "code",
   "execution_count": 15,
   "metadata": {},
   "outputs": [
    {
     "data": {
      "text/plain": [
       "Text(0.5, 1.0, 'Polarity Score Distribution')"
      ]
     },
     "execution_count": 15,
     "metadata": {},
     "output_type": "execute_result"
    },
    {
     "data": {
      "image/png": "[encoded data removed]",
      "text/plain": [
       "<Figure size 720x360 with 1 Axes>"
      ]
     },
     "metadata": {
      "needs_background": "light"
     },
     "output_type": "display_data"
    }
   ],
   "source": [
    "plt.figure(figsize=(10,5))\n",
    "plt.hist(df_sentiment['sentiment'], bins = 50, color = '#006B66')\n",
    "# plt.ylim(0,200)\n",
    "plt.title('Polarity Score Distribution')"
   ]
  },
  {
   "cell_type": "code",
   "execution_count": null,
   "metadata": {},
   "outputs": [],
   "source": []
  }
 ],
 "metadata": {
  "kernelspec": {
   "display_name": "Python 3.9.7 ('base')",
   "language": "python",
   "name": "python3"
  },
  "language_info": {
   "codemirror_mode": {
    "name": "ipython",
    "version": 3
   },
   "file_extension": ".py",
   "mimetype": "text/x-python",
   "name": "python",
   "nbconvert_exporter": "python",
   "pygments_lexer": "ipython3",
   "version": "3.9.7"
  },
  "orig_nbformat": 4,
  "vscode": {
   "interpreter": {
    "hash": "4e4a7e6519862ba49e55c4dc5518f35f3fa69743883c131a62833a150be791c4"
   }
  }
 },
 "nbformat": 4,
 "nbformat_minor": 2
}
