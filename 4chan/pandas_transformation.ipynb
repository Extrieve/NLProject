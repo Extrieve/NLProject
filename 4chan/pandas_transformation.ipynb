{
 "cells": [
  {
   "cell_type": "code",
   "execution_count": 1,
   "metadata": {},
   "outputs": [],
   "source": [
    "import pandas as pd\n",
    "import json\n",
    "import re"
   ]
  },
  {
   "cell_type": "code",
   "execution_count": 2,
   "metadata": {},
   "outputs": [],
   "source": [
    "# lets transform the data into a pandas dataframe, currently it is stored in a dictionary of k=str, v=list[str]\n",
    "# we will use the json module to load the data from the json file\n",
    "with open('data_chan.json', 'r') as f:\n",
    "    data = json.load(f)\n",
    "\n",
    "# Create a pandas dataframe with 2 title and comment columns\n",
    "df = pd.DataFrame(columns=['title', 'comment'])\n",
    "\n",
    "# Iterate through the dictionary and append the data to the dataframe\n",
    "for title, comments in data.items():\n",
    "    for comment in comments:\n",
    "        df = df.append({'title': title, 'comment': comment}, ignore_index=True)"
   ]
  },
  {
   "cell_type": "code",
   "execution_count": 3,
   "metadata": {},
   "outputs": [
    {
     "data": {
      "text/html": [
       "<div>\n",
       "<style scoped>\n",
       "    .dataframe tbody tr th:only-of-type {\n",
       "        vertical-align: middle;\n",
       "    }\n",
       "\n",
       "    .dataframe tbody tr th {\n",
       "        vertical-align: top;\n",
       "    }\n",
       "\n",
       "    .dataframe thead th {\n",
       "        text-align: right;\n",
       "    }\n",
       "</style>\n",
       "<table border=\"1\" class=\"dataframe\">\n",
       "  <thead>\n",
       "    <tr style=\"text-align: right;\">\n",
       "      <th></th>\n",
       "      <th>title</th>\n",
       "      <th>comment</th>\n",
       "    </tr>\n",
       "  </thead>\n",
       "  <tbody>\n",
       "    <tr>\n",
       "      <th>0</th>\n",
       "      <td>All the cool kids are doing it.</td>\n",
       "      <td>&amp;gt;&amp;gt;400714173&amp;gt;no pepe what are you doin...</td>\n",
       "    </tr>\n",
       "    <tr>\n",
       "      <th>1</th>\n",
       "      <td>All the cool kids are doing it.</td>\n",
       "      <td>&amp;gt;&amp;gt;400708757https://www.youtube.com/watch...</td>\n",
       "    </tr>\n",
       "    <tr>\n",
       "      <th>2</th>\n",
       "      <td>All the cool kids are doing it.</td>\n",
       "      <td>&amp;gt;&amp;gt;400713918&amp;gt;if you don&amp;#039;t like th...</td>\n",
       "    </tr>\n",
       "    <tr>\n",
       "      <th>3</th>\n",
       "      <td>All the cool kids are doing it.</td>\n",
       "      <td>&amp;gt;&amp;gt;400708823And I wonder how many big ole...</td>\n",
       "    </tr>\n",
       "    <tr>\n",
       "      <th>4</th>\n",
       "      <td>All the cool kids are doing it.</td>\n",
       "      <td>&amp;gt;&amp;gt;400714594Vatniggers get into the meat ...</td>\n",
       "    </tr>\n",
       "  </tbody>\n",
       "</table>\n",
       "</div>"
      ],
      "text/plain": [
       "                             title  \\\n",
       "0  All the cool kids are doing it.   \n",
       "1  All the cool kids are doing it.   \n",
       "2  All the cool kids are doing it.   \n",
       "3  All the cool kids are doing it.   \n",
       "4  All the cool kids are doing it.   \n",
       "\n",
       "                                             comment  \n",
       "0  &gt;&gt;400714173&gt;no pepe what are you doin...  \n",
       "1  &gt;&gt;400708757https://www.youtube.com/watch...  \n",
       "2  &gt;&gt;400713918&gt;if you don&#039;t like th...  \n",
       "3  &gt;&gt;400708823And I wonder how many big ole...  \n",
       "4  &gt;&gt;400714594Vatniggers get into the meat ...  "
      ]
     },
     "execution_count": 3,
     "metadata": {},
     "output_type": "execute_result"
    }
   ],
   "source": [
    "df.head()"
   ]
  },
  {
   "cell_type": "code",
   "execution_count": 4,
   "metadata": {},
   "outputs": [],
   "source": [
    "# lets make some preeliminary analysis on the data with spacy\n",
    "import spacy\n",
    "nlp = spacy.load('en_core_web_md')"
   ]
  },
  {
   "cell_type": "code",
   "execution_count": 22,
   "metadata": {},
   "outputs": [],
   "source": [
    "# clean the text from 'title' and 'comment' columns\n",
    "def clean_text(text):\n",
    "    # make everything lowercase\n",
    "    text = text.lower()\n",
    "    # only lowercase letters no numbers or special characters\n",
    "    text = re.sub(r'[^a-z]', ' ', text)\n",
    "    \n",
    "    # only accept nouns, pronouns and entities\n",
    "    doc = nlp(text)\n",
    "    text = [token.text for token in doc if token.pos_ in ['NOUN', 'PROPN', 'PRON', 'ADJ']]\n",
    "    return text"
   ]
  },
  {
   "cell_type": "code",
   "execution_count": 23,
   "metadata": {},
   "outputs": [],
   "source": [
    "# apply the clean_text function to the dataframe\n",
    "df['title'] = df['title'].apply(clean_text)\n",
    "df['comment'] = df['comment'].apply(clean_text)"
   ]
  },
  {
   "cell_type": "code",
   "execution_count": 24,
   "metadata": {},
   "outputs": [
    {
     "data": {
      "text/html": [
       "<div>\n",
       "<style scoped>\n",
       "    .dataframe tbody tr th:only-of-type {\n",
       "        vertical-align: middle;\n",
       "    }\n",
       "\n",
       "    .dataframe tbody tr th {\n",
       "        vertical-align: top;\n",
       "    }\n",
       "\n",
       "    .dataframe thead th {\n",
       "        text-align: right;\n",
       "    }\n",
       "</style>\n",
       "<table border=\"1\" class=\"dataframe\">\n",
       "  <thead>\n",
       "    <tr style=\"text-align: right;\">\n",
       "      <th></th>\n",
       "      <th>title</th>\n",
       "      <th>comment</th>\n",
       "      <th>doc</th>\n",
       "      <th>length</th>\n",
       "      <th>sentiment</th>\n",
       "      <th>subjectivity</th>\n",
       "    </tr>\n",
       "  </thead>\n",
       "  <tbody>\n",
       "    <tr>\n",
       "      <th>0</th>\n",
       "      <td>[kid]</td>\n",
       "      <td>[pepe, body]</td>\n",
       "      <td>(               , pepe, body,   )</td>\n",
       "      <td>4</td>\n",
       "      <td>0.0</td>\n",
       "      <td>0.00</td>\n",
       "    </tr>\n",
       "    <tr>\n",
       "      <th>1</th>\n",
       "      <td>[kid]</td>\n",
       "      <td>[https, www, youtube, com, watch, v, nf, k, y,...</td>\n",
       "      <td>(              , https,    , www, youtube, com...</td>\n",
       "      <td>13</td>\n",
       "      <td>0.0</td>\n",
       "      <td>0.00</td>\n",
       "    </tr>\n",
       "    <tr>\n",
       "      <th>2</th>\n",
       "      <td>[kid]</td>\n",
       "      <td>[don, t, richard, spencer, tier, control, oppo...</td>\n",
       "      <td>(               , don,       , t, like, richar...</td>\n",
       "      <td>18</td>\n",
       "      <td>0.2</td>\n",
       "      <td>0.30</td>\n",
       "    </tr>\n",
       "    <tr>\n",
       "      <th>3</th>\n",
       "      <td>[kid]</td>\n",
       "      <td>[wonder, ole, brain, imagery, quot, meme, quot...</td>\n",
       "      <td>(              , wonder, big, ole, brain, agre...</td>\n",
       "      <td>25</td>\n",
       "      <td>-0.1</td>\n",
       "      <td>0.45</td>\n",
       "    </tr>\n",
       "    <tr>\n",
       "      <th>4</th>\n",
       "      <td>[kid]</td>\n",
       "      <td>[vatnigger, meat, grinder]</td>\n",
       "      <td>(              , vatnigger, meat, grinder)</td>\n",
       "      <td>4</td>\n",
       "      <td>0.0</td>\n",
       "      <td>0.00</td>\n",
       "    </tr>\n",
       "  </tbody>\n",
       "</table>\n",
       "</div>"
      ],
      "text/plain": [
       "   title                                            comment  \\\n",
       "0  [kid]                                       [pepe, body]   \n",
       "1  [kid]  [https, www, youtube, com, watch, v, nf, k, y,...   \n",
       "2  [kid]  [don, t, richard, spencer, tier, control, oppo...   \n",
       "3  [kid]  [wonder, ole, brain, imagery, quot, meme, quot...   \n",
       "4  [kid]                         [vatnigger, meat, grinder]   \n",
       "\n",
       "                                                 doc  length  sentiment  \\\n",
       "0                  (               , pepe, body,   )       4        0.0   \n",
       "1  (              , https,    , www, youtube, com...      13        0.0   \n",
       "2  (               , don,       , t, like, richar...      18        0.2   \n",
       "3  (              , wonder, big, ole, brain, agre...      25       -0.1   \n",
       "4         (              , vatnigger, meat, grinder)       4        0.0   \n",
       "\n",
       "   subjectivity  \n",
       "0          0.00  \n",
       "1          0.00  \n",
       "2          0.30  \n",
       "3          0.45  \n",
       "4          0.00  "
      ]
     },
     "execution_count": 24,
     "metadata": {},
     "output_type": "execute_result"
    }
   ],
   "source": [
    "df.head()"
   ]
  },
  {
   "cell_type": "code",
   "execution_count": 27,
   "metadata": {},
   "outputs": [],
   "source": [
    "# lets create a new column with the length of the comment\n",
    "df['length'] = df['comment'].apply(lambda x: len(x))"
   ]
  },
  {
   "cell_type": "code",
   "execution_count": 29,
   "metadata": {},
   "outputs": [
    {
     "ename": "ValueError",
     "evalue": "[E007] 'spacytextblob' already exists in pipeline. Existing names: ['tok2vec', 'tagger', 'parser', 'senter', 'attribute_ruler', 'lemmatizer', 'ner', 'spacytextblob']",
     "output_type": "error",
     "traceback": [
      "\u001b[1;31m---------------------------------------------------------------------------\u001b[0m",
      "\u001b[1;31mValueError\u001b[0m                                Traceback (most recent call last)",
      "\u001b[1;32mc:\\Users\\nicol\\Documents\\Python\\NLProject\\4chan\\pandas_transformation.ipynb Cell 9\u001b[0m in \u001b[0;36m<cell line: 3>\u001b[1;34m()\u001b[0m\n\u001b[0;32m      <a href='vscode-notebook-cell:/c%3A/Users/nicol/Documents/Python/NLProject/4chan/pandas_transformation.ipynb#X11sZmlsZQ%3D%3D?line=0'>1</a>\u001b[0m \u001b[39m# lets analyze the sentiment of the comments\u001b[39;00m\n\u001b[0;32m      <a href='vscode-notebook-cell:/c%3A/Users/nicol/Documents/Python/NLProject/4chan/pandas_transformation.ipynb#X11sZmlsZQ%3D%3D?line=1'>2</a>\u001b[0m \u001b[39mfrom\u001b[39;00m \u001b[39mspacytextblob\u001b[39;00m\u001b[39m.\u001b[39;00m\u001b[39mspacytextblob\u001b[39;00m \u001b[39mimport\u001b[39;00m SpacyTextBlob\n\u001b[1;32m----> <a href='vscode-notebook-cell:/c%3A/Users/nicol/Documents/Python/NLProject/4chan/pandas_transformation.ipynb#X11sZmlsZQ%3D%3D?line=2'>3</a>\u001b[0m nlp\u001b[39m.\u001b[39;49madd_pipe(\u001b[39m'\u001b[39;49m\u001b[39mspacytextblob\u001b[39;49m\u001b[39m'\u001b[39;49m)\n",
      "File \u001b[1;32mc:\\Users\\nicol\\AppData\\Local\\Programs\\Python\\Python310\\lib\\site-packages\\spacy\\language.py:776\u001b[0m, in \u001b[0;36mLanguage.add_pipe\u001b[1;34m(self, factory_name, name, before, after, first, last, source, config, raw_config, validate)\u001b[0m\n\u001b[0;32m    774\u001b[0m name \u001b[39m=\u001b[39m name \u001b[39mif\u001b[39;00m name \u001b[39mis\u001b[39;00m \u001b[39mnot\u001b[39;00m \u001b[39mNone\u001b[39;00m \u001b[39melse\u001b[39;00m factory_name\n\u001b[0;32m    775\u001b[0m \u001b[39mif\u001b[39;00m name \u001b[39min\u001b[39;00m \u001b[39mself\u001b[39m\u001b[39m.\u001b[39mcomponent_names:\n\u001b[1;32m--> 776\u001b[0m     \u001b[39mraise\u001b[39;00m \u001b[39mValueError\u001b[39;00m(Errors\u001b[39m.\u001b[39mE007\u001b[39m.\u001b[39mformat(name\u001b[39m=\u001b[39mname, opts\u001b[39m=\u001b[39m\u001b[39mself\u001b[39m\u001b[39m.\u001b[39mcomponent_names))\n\u001b[0;32m    777\u001b[0m \u001b[39m# Overriding pipe name in the config is not supported and will be ignored.\u001b[39;00m\n\u001b[0;32m    778\u001b[0m \u001b[39mif\u001b[39;00m \u001b[39m\"\u001b[39m\u001b[39mname\u001b[39m\u001b[39m\"\u001b[39m \u001b[39min\u001b[39;00m config:\n",
      "\u001b[1;31mValueError\u001b[0m: [E007] 'spacytextblob' already exists in pipeline. Existing names: ['tok2vec', 'tagger', 'parser', 'senter', 'attribute_ruler', 'lemmatizer', 'ner', 'spacytextblob']"
     ]
    }
   ],
   "source": [
    "# lets analyze the sentiment of the comments\n",
    "from spacytextblob.spacytextblob import SpacyTextBlob\n",
    "nlp.add_pipe('spacytextblob')"
   ]
  },
  {
   "cell_type": "code",
   "execution_count": 31,
   "metadata": {},
   "outputs": [],
   "source": [
    "# lets create a new column with the sentiment of the comment\n",
    "df['sentiment'] = df['comment'].apply(lambda x: nlp(' '.join(x))._.blob.polarity)"
   ]
  },
  {
   "cell_type": "code",
   "execution_count": 32,
   "metadata": {},
   "outputs": [
    {
     "data": {
      "image/png": "[encoded data removed]",
      "text/plain": [
       "<Figure size 432x288 with 1 Axes>"
      ]
     },
     "metadata": {
      "needs_background": "light"
     },
     "output_type": "display_data"
    }
   ],
   "source": [
    "# lets plot the sentiment of the comments\n",
    "import matplotlib.pyplot as plt\n",
    "\n",
    "plt.hist(df['sentiment'], bins=20)\n",
    "plt.show()"
   ]
  },
  {
   "cell_type": "code",
   "execution_count": 33,
   "metadata": {},
   "outputs": [
    {
     "data": {
      "text/html": [
       "<div>\n",
       "<style scoped>\n",
       "    .dataframe tbody tr th:only-of-type {\n",
       "        vertical-align: middle;\n",
       "    }\n",
       "\n",
       "    .dataframe tbody tr th {\n",
       "        vertical-align: top;\n",
       "    }\n",
       "\n",
       "    .dataframe thead th {\n",
       "        text-align: right;\n",
       "    }\n",
       "</style>\n",
       "<table border=\"1\" class=\"dataframe\">\n",
       "  <thead>\n",
       "    <tr style=\"text-align: right;\">\n",
       "      <th></th>\n",
       "      <th>title</th>\n",
       "      <th>comment</th>\n",
       "      <th>doc</th>\n",
       "      <th>length</th>\n",
       "      <th>sentiment</th>\n",
       "      <th>subjectivity</th>\n",
       "    </tr>\n",
       "  </thead>\n",
       "  <tbody>\n",
       "    <tr>\n",
       "      <th>1695</th>\n",
       "      <td>[omg, omg, elon, hecke, baaaaasedbased, base, ...</td>\n",
       "      <td>[kangaroo, shitskinmusk, base]</td>\n",
       "      <td>(               , kangaroo, eat, shitskinmusk,...</td>\n",
       "      <td>3</td>\n",
       "      <td>-0.8</td>\n",
       "      <td>1.000000</td>\n",
       "    </tr>\n",
       "    <tr>\n",
       "      <th>2075</th>\n",
       "      <td>[company, ground, superior, ashkenazi, iq]</td>\n",
       "      <td>[decision, retard, agenda]</td>\n",
       "      <td>(              , personal, decision, retard,  ...</td>\n",
       "      <td>3</td>\n",
       "      <td>-0.9</td>\n",
       "      <td>0.683333</td>\n",
       "    </tr>\n",
       "    <tr>\n",
       "      <th>2109</th>\n",
       "      <td>[wignat, fight, people]</td>\n",
       "      <td>[hate, achille, heel, empathy, animal, people,...</td>\n",
       "      <td>(              , hate,   , s, white,   , achil...</td>\n",
       "      <td>7</td>\n",
       "      <td>-0.8</td>\n",
       "      <td>0.633333</td>\n",
       "    </tr>\n",
       "    <tr>\n",
       "      <th>112</th>\n",
       "      <td>[implication, man, woman]</td>\n",
       "      <td>[base]</td>\n",
       "      <td>(              , base)</td>\n",
       "      <td>1</td>\n",
       "      <td>-0.8</td>\n",
       "      <td>1.000000</td>\n",
       "    </tr>\n",
       "    <tr>\n",
       "      <th>1730</th>\n",
       "      <td>[pol, goy, score]</td>\n",
       "      <td>[landlord, moron]</td>\n",
       "      <td>(              , landlord, moron)</td>\n",
       "      <td>2</td>\n",
       "      <td>-0.8</td>\n",
       "      <td>1.000000</td>\n",
       "    </tr>\n",
       "  </tbody>\n",
       "</table>\n",
       "</div>"
      ],
      "text/plain": [
       "                                                  title  \\\n",
       "1695  [omg, omg, elon, hecke, baaaaasedbased, base, ...   \n",
       "2075         [company, ground, superior, ashkenazi, iq]   \n",
       "2109                            [wignat, fight, people]   \n",
       "112                           [implication, man, woman]   \n",
       "1730                                  [pol, goy, score]   \n",
       "\n",
       "                                                comment  \\\n",
       "1695                     [kangaroo, shitskinmusk, base]   \n",
       "2075                         [decision, retard, agenda]   \n",
       "2109  [hate, achille, heel, empathy, animal, people,...   \n",
       "112                                              [base]   \n",
       "1730                                  [landlord, moron]   \n",
       "\n",
       "                                                    doc  length  sentiment  \\\n",
       "1695  (               , kangaroo, eat, shitskinmusk,...       3       -0.8   \n",
       "2075  (              , personal, decision, retard,  ...       3       -0.9   \n",
       "2109  (              , hate,   , s, white,   , achil...       7       -0.8   \n",
       "112                              (              , base)       1       -0.8   \n",
       "1730                  (              , landlord, moron)       2       -0.8   \n",
       "\n",
       "      subjectivity  \n",
       "1695      1.000000  \n",
       "2075      0.683333  \n",
       "2109      0.633333  \n",
       "112       1.000000  \n",
       "1730      1.000000  "
      ]
     },
     "execution_count": 33,
     "metadata": {},
     "output_type": "execute_result"
    }
   ],
   "source": [
    "# show 5 samples of negative comments, in which sentiment is less than -0.5\n",
    "df[df['sentiment'] < -0.5].sample(5)"
   ]
  },
  {
   "cell_type": "code",
   "execution_count": 34,
   "metadata": {},
   "outputs": [
    {
     "data": {
      "text/html": [
       "<div>\n",
       "<style scoped>\n",
       "    .dataframe tbody tr th:only-of-type {\n",
       "        vertical-align: middle;\n",
       "    }\n",
       "\n",
       "    .dataframe tbody tr th {\n",
       "        vertical-align: top;\n",
       "    }\n",
       "\n",
       "    .dataframe thead th {\n",
       "        text-align: right;\n",
       "    }\n",
       "</style>\n",
       "<table border=\"1\" class=\"dataframe\">\n",
       "  <thead>\n",
       "    <tr style=\"text-align: right;\">\n",
       "      <th></th>\n",
       "      <th>title</th>\n",
       "      <th>comment</th>\n",
       "      <th>doc</th>\n",
       "      <th>length</th>\n",
       "      <th>sentiment</th>\n",
       "      <th>subjectivity</th>\n",
       "    </tr>\n",
       "  </thead>\n",
       "  <tbody>\n",
       "    <tr>\n",
       "      <th>857</th>\n",
       "      <td>[https, cdn, org, wsg, webm]</td>\n",
       "      <td>[laugh, point, judge, number, witness, quot, d...</td>\n",
       "      <td>(                , die, laugh, point, judge, t...</td>\n",
       "      <td>30</td>\n",
       "      <td>0.55</td>\n",
       "      <td>0.166667</td>\n",
       "    </tr>\n",
       "    <tr>\n",
       "      <th>746</th>\n",
       "      <td>[discussion, interpretation, bible, argument, ...</td>\n",
       "      <td>[thread, trash, win, t, thing, mouf]</td>\n",
       "      <td>(              , see, thread, like,   , strugg...</td>\n",
       "      <td>6</td>\n",
       "      <td>0.80</td>\n",
       "      <td>0.400000</td>\n",
       "    </tr>\n",
       "    <tr>\n",
       "      <th>1362</th>\n",
       "      <td>[world, hateful, faggot, ampersand, nigger, wo...</td>\n",
       "      <td>[home, time, don, t, win]</td>\n",
       "      <td>(repent, home, time, come, don,       , t, let...</td>\n",
       "      <td>5</td>\n",
       "      <td>0.80</td>\n",
       "      <td>0.700000</td>\n",
       "    </tr>\n",
       "    <tr>\n",
       "      <th>1811</th>\n",
       "      <td>[nigger]</td>\n",
       "      <td>[lol, man]</td>\n",
       "      <td>(              , lol,   , kike, big, mad, outs...</td>\n",
       "      <td>2</td>\n",
       "      <td>0.80</td>\n",
       "      <td>0.558333</td>\n",
       "    </tr>\n",
       "    <tr>\n",
       "      <th>1650</th>\n",
       "      <td>[brit, france, rule, rule, day, history]</td>\n",
       "      <td>[historylol, lmao, fact]</td>\n",
       "      <td>(               , opposite, literally, happen,...</td>\n",
       "      <td>3</td>\n",
       "      <td>0.60</td>\n",
       "      <td>0.500000</td>\n",
       "    </tr>\n",
       "  </tbody>\n",
       "</table>\n",
       "</div>"
      ],
      "text/plain": [
       "                                                  title  \\\n",
       "857                        [https, cdn, org, wsg, webm]   \n",
       "746   [discussion, interpretation, bible, argument, ...   \n",
       "1362  [world, hateful, faggot, ampersand, nigger, wo...   \n",
       "1811                                           [nigger]   \n",
       "1650           [brit, france, rule, rule, day, history]   \n",
       "\n",
       "                                                comment  \\\n",
       "857   [laugh, point, judge, number, witness, quot, d...   \n",
       "746                [thread, trash, win, t, thing, mouf]   \n",
       "1362                          [home, time, don, t, win]   \n",
       "1811                                         [lol, man]   \n",
       "1650                           [historylol, lmao, fact]   \n",
       "\n",
       "                                                    doc  length  sentiment  \\\n",
       "857   (                , die, laugh, point, judge, t...      30       0.55   \n",
       "746   (              , see, thread, like,   , strugg...       6       0.80   \n",
       "1362  (repent, home, time, come, don,       , t, let...       5       0.80   \n",
       "1811  (              , lol,   , kike, big, mad, outs...       2       0.80   \n",
       "1650  (               , opposite, literally, happen,...       3       0.60   \n",
       "\n",
       "      subjectivity  \n",
       "857       0.166667  \n",
       "746       0.400000  \n",
       "1362      0.700000  \n",
       "1811      0.558333  \n",
       "1650      0.500000  "
      ]
     },
     "execution_count": 34,
     "metadata": {},
     "output_type": "execute_result"
    }
   ],
   "source": [
    "# show 5 samples of positive comments, in which sentiment is greater than 0.5\n",
    "df[df['sentiment'] > 0.5].sample(5)"
   ]
  },
  {
   "cell_type": "code",
   "execution_count": 35,
   "metadata": {},
   "outputs": [],
   "source": [
    "# lets create a new column with the subjectivity of the comment\n",
    "df['subjectivity'] = df['doc'].apply(lambda x: nlp(x)._.blob.subjectivity)"
   ]
  },
  {
   "cell_type": "code",
   "execution_count": 36,
   "metadata": {},
   "outputs": [
    {
     "data": {
      "image/png": "[encoded data removed]",
      "text/plain": [
       "<Figure size 432x288 with 1 Axes>"
      ]
     },
     "metadata": {
      "needs_background": "light"
     },
     "output_type": "display_data"
    }
   ],
   "source": [
    "# lets plot the subjectivity of the comments\n",
    "plt.hist(df['subjectivity'], bins=20)\n",
    "plt.show()"
   ]
  },
  {
   "cell_type": "code",
   "execution_count": 37,
   "metadata": {},
   "outputs": [
    {
     "data": {
      "text/html": [
       "<div>\n",
       "<style scoped>\n",
       "    .dataframe tbody tr th:only-of-type {\n",
       "        vertical-align: middle;\n",
       "    }\n",
       "\n",
       "    .dataframe tbody tr th {\n",
       "        vertical-align: top;\n",
       "    }\n",
       "\n",
       "    .dataframe thead th {\n",
       "        text-align: right;\n",
       "    }\n",
       "</style>\n",
       "<table border=\"1\" class=\"dataframe\">\n",
       "  <thead>\n",
       "    <tr style=\"text-align: right;\">\n",
       "      <th></th>\n",
       "      <th>title</th>\n",
       "      <th>comment</th>\n",
       "      <th>doc</th>\n",
       "      <th>length</th>\n",
       "      <th>sentiment</th>\n",
       "      <th>subjectivity</th>\n",
       "    </tr>\n",
       "  </thead>\n",
       "  <tbody>\n",
       "    <tr>\n",
       "      <th>80</th>\n",
       "      <td>[newton, bernoulli, wrong, https, www, scienti...</td>\n",
       "      <td>[journalist, clicks, quot, scientist, quot, gr...</td>\n",
       "      <td>(                 , journalist, write, retarde...</td>\n",
       "      <td>12</td>\n",
       "      <td>0.000000</td>\n",
       "      <td>0.800000</td>\n",
       "    </tr>\n",
       "    <tr>\n",
       "      <th>875</th>\n",
       "      <td>[kanye, fire]</td>\n",
       "      <td>[ukrainians, nazi, ukrainians, larp, themwhy]</td>\n",
       "      <td>(               , ukrainians, consider, subhum...</td>\n",
       "      <td>5</td>\n",
       "      <td>0.000000</td>\n",
       "      <td>0.800000</td>\n",
       "    </tr>\n",
       "    <tr>\n",
       "      <th>1849</th>\n",
       "      <td>[culture, war]</td>\n",
       "      <td>[m, year, censorship, jobeveryone, half, chink...</td>\n",
       "      <td>(              , want,     , m, year, censorsh...</td>\n",
       "      <td>9</td>\n",
       "      <td>-0.166667</td>\n",
       "      <td>0.583333</td>\n",
       "    </tr>\n",
       "    <tr>\n",
       "      <th>1982</th>\n",
       "      <td>[move, nishinoshima, breed, dog, import, japan...</td>\n",
       "      <td>[mean, hope, man, idea, history, jap, ghost, m...</td>\n",
       "      <td>(              , mean, hope, go, man,   , chas...</td>\n",
       "      <td>9</td>\n",
       "      <td>-0.312500</td>\n",
       "      <td>0.793750</td>\n",
       "    </tr>\n",
       "    <tr>\n",
       "      <th>1854</th>\n",
       "      <td>[study, conduct, t, state, art, nano, brain, r...</td>\n",
       "      <td>[tranny, lmao]</td>\n",
       "      <td>(m, tranny, lmao)</td>\n",
       "      <td>2</td>\n",
       "      <td>0.600000</td>\n",
       "      <td>1.000000</td>\n",
       "    </tr>\n",
       "  </tbody>\n",
       "</table>\n",
       "</div>"
      ],
      "text/plain": [
       "                                                  title  \\\n",
       "80    [newton, bernoulli, wrong, https, www, scienti...   \n",
       "875                                       [kanye, fire]   \n",
       "1849                                     [culture, war]   \n",
       "1982  [move, nishinoshima, breed, dog, import, japan...   \n",
       "1854  [study, conduct, t, state, art, nano, brain, r...   \n",
       "\n",
       "                                                comment  \\\n",
       "80    [journalist, clicks, quot, scientist, quot, gr...   \n",
       "875       [ukrainians, nazi, ukrainians, larp, themwhy]   \n",
       "1849  [m, year, censorship, jobeveryone, half, chink...   \n",
       "1982  [mean, hope, man, idea, history, jap, ghost, m...   \n",
       "1854                                     [tranny, lmao]   \n",
       "\n",
       "                                                    doc  length  sentiment  \\\n",
       "80    (                 , journalist, write, retarde...      12   0.000000   \n",
       "875   (               , ukrainians, consider, subhum...       5   0.000000   \n",
       "1849  (              , want,     , m, year, censorsh...       9  -0.166667   \n",
       "1982  (              , mean, hope, go, man,   , chas...       9  -0.312500   \n",
       "1854                                  (m, tranny, lmao)       2   0.600000   \n",
       "\n",
       "      subjectivity  \n",
       "80        0.800000  \n",
       "875       0.800000  \n",
       "1849      0.583333  \n",
       "1982      0.793750  \n",
       "1854      1.000000  "
      ]
     },
     "execution_count": 37,
     "metadata": {},
     "output_type": "execute_result"
    }
   ],
   "source": [
    "# show 5 samples of subjective comments, in which subjectivity is greater than 0.5\n",
    "df[df['subjectivity'] > 0.5].sample(5)"
   ]
  },
  {
   "cell_type": "code",
   "execution_count": 38,
   "metadata": {},
   "outputs": [
    {
     "data": {
      "text/html": [
       "<div>\n",
       "<style scoped>\n",
       "    .dataframe tbody tr th:only-of-type {\n",
       "        vertical-align: middle;\n",
       "    }\n",
       "\n",
       "    .dataframe tbody tr th {\n",
       "        vertical-align: top;\n",
       "    }\n",
       "\n",
       "    .dataframe thead th {\n",
       "        text-align: right;\n",
       "    }\n",
       "</style>\n",
       "<table border=\"1\" class=\"dataframe\">\n",
       "  <thead>\n",
       "    <tr style=\"text-align: right;\">\n",
       "      <th></th>\n",
       "      <th>title</th>\n",
       "      <th>comment</th>\n",
       "      <th>doc</th>\n",
       "      <th>length</th>\n",
       "      <th>sentiment</th>\n",
       "      <th>subjectivity</th>\n",
       "    </tr>\n",
       "  </thead>\n",
       "  <tbody>\n",
       "    <tr>\n",
       "      <th>548</th>\n",
       "      <td>[]</td>\n",
       "      <td>[nigcel, problem]</td>\n",
       "      <td>(nigcel, problem)</td>\n",
       "      <td>2</td>\n",
       "      <td>0.0</td>\n",
       "      <td>0.0</td>\n",
       "    </tr>\n",
       "    <tr>\n",
       "      <th>589</th>\n",
       "      <td>[don, t, border, border, myth, publishing, lob...</td>\n",
       "      <td>[t, fall, publisher, propaganda]</td>\n",
       "      <td>(                    , t, believe, fall, publi...</td>\n",
       "      <td>4</td>\n",
       "      <td>-0.1</td>\n",
       "      <td>0.1</td>\n",
       "    </tr>\n",
       "    <tr>\n",
       "      <th>1536</th>\n",
       "      <td>[https, twitter, com, adl, status]</td>\n",
       "      <td>[t, noticing]</td>\n",
       "      <td>(              , isn,       , t,        , reve...</td>\n",
       "      <td>2</td>\n",
       "      <td>0.0</td>\n",
       "      <td>0.0</td>\n",
       "    </tr>\n",
       "    <tr>\n",
       "      <th>427</th>\n",
       "      <td>[day]</td>\n",
       "      <td>[haven, t, chinese, crispr, troop, target, bio...</td>\n",
       "      <td>(              , haven, t, get, chinese, crisp...</td>\n",
       "      <td>10</td>\n",
       "      <td>0.0</td>\n",
       "      <td>0.0</td>\n",
       "    </tr>\n",
       "    <tr>\n",
       "      <th>593</th>\n",
       "      <td>[society, propaganda, direction, script, plan]</td>\n",
       "      <td>[star, david, column]</td>\n",
       "      <td>(              , star, david, column)</td>\n",
       "      <td>3</td>\n",
       "      <td>0.0</td>\n",
       "      <td>0.0</td>\n",
       "    </tr>\n",
       "  </tbody>\n",
       "</table>\n",
       "</div>"
      ],
      "text/plain": [
       "                                                  title  \\\n",
       "548                                                  []   \n",
       "589   [don, t, border, border, myth, publishing, lob...   \n",
       "1536                 [https, twitter, com, adl, status]   \n",
       "427                                               [day]   \n",
       "593      [society, propaganda, direction, script, plan]   \n",
       "\n",
       "                                                comment  \\\n",
       "548                                   [nigcel, problem]   \n",
       "589                    [t, fall, publisher, propaganda]   \n",
       "1536                                      [t, noticing]   \n",
       "427   [haven, t, chinese, crispr, troop, target, bio...   \n",
       "593                               [star, david, column]   \n",
       "\n",
       "                                                    doc  length  sentiment  \\\n",
       "548                                   (nigcel, problem)       2        0.0   \n",
       "589   (                    , t, believe, fall, publi...       4       -0.1   \n",
       "1536  (              , isn,       , t,        , reve...       2        0.0   \n",
       "427   (              , haven, t, get, chinese, crisp...      10        0.0   \n",
       "593               (              , star, david, column)       3        0.0   \n",
       "\n",
       "      subjectivity  \n",
       "548            0.0  \n",
       "589            0.1  \n",
       "1536           0.0  \n",
       "427            0.0  \n",
       "593            0.0  "
      ]
     },
     "execution_count": 38,
     "metadata": {},
     "output_type": "execute_result"
    }
   ],
   "source": [
    "# show 5 samples of objective comments, in which subjectivity is less than 0.5\n",
    "df[df['subjectivity'] < 0.5].sample(5)"
   ]
  },
  {
   "cell_type": "code",
   "execution_count": 39,
   "metadata": {},
   "outputs": [
    {
     "ename": "TypeError",
     "evalue": "sequence item 0: expected str instance, list found",
     "output_type": "error",
     "traceback": [
      "\u001b[1;31m---------------------------------------------------------------------------\u001b[0m",
      "\u001b[1;31mTypeError\u001b[0m                                 Traceback (most recent call last)",
      "\u001b[1;32mc:\\Users\\nicol\\Documents\\Python\\NLProject\\4chan\\pandas_transformation.ipynb Cell 18\u001b[0m in \u001b[0;36m<cell line: 5>\u001b[1;34m()\u001b[0m\n\u001b[0;32m      <a href='vscode-notebook-cell:/c%3A/Users/nicol/Documents/Python/NLProject/4chan/pandas_transformation.ipynb#X23sZmlsZQ%3D%3D?line=1'>2</a>\u001b[0m \u001b[39mfrom\u001b[39;00m \u001b[39mwordcloud\u001b[39;00m \u001b[39mimport\u001b[39;00m WordCloud\n\u001b[0;32m      <a href='vscode-notebook-cell:/c%3A/Users/nicol/Documents/Python/NLProject/4chan/pandas_transformation.ipynb#X23sZmlsZQ%3D%3D?line=3'>4</a>\u001b[0m \u001b[39m# create a string of all the comments\u001b[39;00m\n\u001b[1;32m----> <a href='vscode-notebook-cell:/c%3A/Users/nicol/Documents/Python/NLProject/4chan/pandas_transformation.ipynb#X23sZmlsZQ%3D%3D?line=4'>5</a>\u001b[0m all_comments \u001b[39m=\u001b[39m \u001b[39m'\u001b[39;49m\u001b[39m \u001b[39;49m\u001b[39m'\u001b[39;49m\u001b[39m.\u001b[39;49mjoin(df[\u001b[39m'\u001b[39;49m\u001b[39mcomment\u001b[39;49m\u001b[39m'\u001b[39;49m])\n\u001b[0;32m      <a href='vscode-notebook-cell:/c%3A/Users/nicol/Documents/Python/NLProject/4chan/pandas_transformation.ipynb#X23sZmlsZQ%3D%3D?line=6'>7</a>\u001b[0m \u001b[39m# create a word cloud object\u001b[39;00m\n\u001b[0;32m      <a href='vscode-notebook-cell:/c%3A/Users/nicol/Documents/Python/NLProject/4chan/pandas_transformation.ipynb#X23sZmlsZQ%3D%3D?line=7'>8</a>\u001b[0m wordcloud \u001b[39m=\u001b[39m WordCloud()\u001b[39m.\u001b[39mgenerate(all_comments)\n",
      "\u001b[1;31mTypeError\u001b[0m: sequence item 0: expected str instance, list found"
     ]
    }
   ],
   "source": [
    "# lets create a word cloud of the most common words in the comments\n",
    "from wordcloud import WordCloud\n",
    "\n",
    "# create a string of all the comments\n",
    "all_comments = ' '.join(df['comment'])\n",
    "\n",
    "# create a word cloud object\n",
    "wordcloud = WordCloud().generate(all_comments)\n",
    "\n",
    "# plot the word cloud, make it larger\n",
    "plt.imshow(wordcloud, interpolation='bilinear')\n",
    "plt.axis(\"off\")\n",
    "plt.figure(figsize=(20,10))\n",
    "plt.show()"
   ]
  },
  {
   "cell_type": "code",
   "execution_count": null,
   "metadata": {},
   "outputs": [
    {
     "data": {
      "image/png": "[encoded data removed]",
      "text/plain": [
       "<Figure size 432x288 with 1 Axes>"
      ]
     },
     "metadata": {
      "needs_background": "light"
     },
     "output_type": "display_data"
    },
    {
     "data": {
      "text/plain": [
       "<Figure size 1440x720 with 0 Axes>"
      ]
     },
     "metadata": {},
     "output_type": "display_data"
    }
   ],
   "source": [
    "# lets create a word cloud of the most common words in the comments, but only for negative comments\n",
    "negative_comments = ' '.join(df[df['sentiment'] < -0.5]['comment'])\n",
    "\n",
    "# create a word cloud object\n",
    "wordcloud = WordCloud().generate(negative_comments)\n",
    "\n",
    "plt.imshow(wordcloud, interpolation='bilinear')\n",
    "plt.axis(\"off\")\n",
    "plt.figure(figsize=(20,10))\n",
    "plt.show()"
   ]
  },
  {
   "cell_type": "code",
   "execution_count": null,
   "metadata": {},
   "outputs": [],
   "source": [
    "# check how many unique words are in the comments\n",
    "total_unique = len(set(all_comments.split()))\n",
    "\n",
    "# average unique words per comment\n",
    "unique_words_by_comment = len(set(all_comments.split())) / len(all_comments.split())"
   ]
  }
 ],
 "metadata": {
  "kernelspec": {
   "display_name": "Python 3.10.7 64-bit",
   "language": "python",
   "name": "python3"
  },
  "language_info": {
   "codemirror_mode": {
    "name": "ipython",
    "version": 3
   },
   "file_extension": ".py",
   "mimetype": "text/x-python",
   "name": "python",
   "nbconvert_exporter": "python",
   "pygments_lexer": "ipython3",
   "version": "3.10.7"
  },
  "orig_nbformat": 4,
  "vscode": {
   "interpreter": {
    "hash": "85c576d62e5a69baba7dcae6282c7bf6fba6f8d537c9cbb11ca984aece3c77a0"
   }
  }
 },
 "nbformat": 4,
 "nbformat_minor": 2
}
