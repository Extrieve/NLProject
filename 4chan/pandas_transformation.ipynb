{
 "cells": [
  {
   "cell_type": "code",
   "execution_count": 2,
   "metadata": {},
   "outputs": [],
   "source": [
    "import pandas as pd\n",
    "import json"
   ]
  },
  {
   "cell_type": "code",
   "execution_count": 5,
   "metadata": {},
   "outputs": [
    {
     "name": "stdout",
     "output_type": "stream",
     "text": [
      "                                               title  \\\n",
      "0  chrome and steady editionpost your own, or you...   \n",
      "1  chrome and steady editionpost your own, or you...   \n",
      "2  chrome and steady editionpost your own, or you...   \n",
      "3  chrome and steady editionpost your own, or you...   \n",
      "4  previous &gt;&gt;89325365&gt;Updateshttps://re...   \n",
      "\n",
      "                                             comment  \n",
      "0  another thing, if you&#039;re not sure you sho...  \n",
      "1  I tried using one once but every time I connec...  \n",
      "2  Unironically great devices to coreboot and ins...  \n",
      "3  &gt;&gt;89327018&gt;for under 150$ you should ...  \n",
      "4                        &gt;&gt;89327641Is it loss?  \n"
     ]
    }
   ],
   "source": [
    "# lets transform the data into a pandas dataframe, currently it is stored in a dictionary of k=str, v=list[str]\n",
    "# we will use the json module to load the data from the json file\n",
    "with open('data_chan_games.json', 'r') as f:\n",
    "    data = json.load(f)\n",
    "\n",
    "# Create a pandas dataframe with 2 title and comment columns\n",
    "df = pd.DataFrame(columns=['title', 'comment'])\n",
    "\n",
    "# Iterate through the dictionary and append the data to the dataframe\n",
    "for title, comments in data.items():\n",
    "    for comment in comments:\n",
    "        df = df.append({'title': title, 'comment': comment}, ignore_index=True)"
   ]
  },
  {
   "cell_type": "code",
   "execution_count": 8,
   "metadata": {},
   "outputs": [
    {
     "data": {
      "text/plain": [
       "(676, 2)"
      ]
     },
     "execution_count": 8,
     "metadata": {},
     "output_type": "execute_result"
    }
   ],
   "source": [
    "df.shape"
   ]
  },
  {
   "cell_type": "code",
   "execution_count": 9,
   "metadata": {},
   "outputs": [],
   "source": [
    "# lets make some preeliminary analysis on the data with spacy\n",
    "import spacy\n",
    "nlp = spacy.load('en_core_web_md')"
   ]
  },
  {
   "cell_type": "code",
   "execution_count": 10,
   "metadata": {},
   "outputs": [],
   "source": [
    "# lets create a new column with the spacy doc object\n",
    "df['doc'] = df['comment'].apply(lambda x: nlp(x))"
   ]
  },
  {
   "cell_type": "code",
   "execution_count": 11,
   "metadata": {},
   "outputs": [],
   "source": [
    "# lets create a new column with the length of the comment\n",
    "df['length'] = df['doc'].apply(lambda x: len(x))"
   ]
  },
  {
   "cell_type": "code",
   "execution_count": null,
   "metadata": {},
   "outputs": [],
   "source": [
    "# lets analyze the sentiment of the comments\n",
    "from spacytextblob.spacytextblob import SpacyTextBlob\n",
    "nlp.add_pipe('spacytextblob')"
   ]
  },
  {
   "cell_type": "code",
   "execution_count": 19,
   "metadata": {},
   "outputs": [],
   "source": [
    "# lets create a new column with the sentiment of the comment\n",
    "df['sentiment'] = df['doc'].apply(lambda x: nlp(x)._.blob.polarity)"
   ]
  },
  {
   "cell_type": "code",
   "execution_count": 20,
   "metadata": {},
   "outputs": [
    {
     "data": {
      "image/png": "[encoded data removed]",
      "text/plain": [
       "<Figure size 432x288 with 1 Axes>"
      ]
     },
     "metadata": {
      "needs_background": "light"
     },
     "output_type": "display_data"
    }
   ],
   "source": [
    "# lets plot the sentiment of the comments\n",
    "import matplotlib.pyplot as plt\n",
    "\n",
    "plt.hist(df['sentiment'], bins=20)\n",
    "plt.show()"
   ]
  },
  {
   "cell_type": "code",
   "execution_count": 21,
   "metadata": {},
   "outputs": [
    {
     "data": {
      "text/html": [
       "<div>\n",
       "<style scoped>\n",
       "    .dataframe tbody tr th:only-of-type {\n",
       "        vertical-align: middle;\n",
       "    }\n",
       "\n",
       "    .dataframe tbody tr th {\n",
       "        vertical-align: top;\n",
       "    }\n",
       "\n",
       "    .dataframe thead th {\n",
       "        text-align: right;\n",
       "    }\n",
       "</style>\n",
       "<table border=\"1\" class=\"dataframe\">\n",
       "  <thead>\n",
       "    <tr style=\"text-align: right;\">\n",
       "      <th></th>\n",
       "      <th>title</th>\n",
       "      <th>comment</th>\n",
       "      <th>doc</th>\n",
       "      <th>length</th>\n",
       "      <th>sentiment</th>\n",
       "    </tr>\n",
       "  </thead>\n",
       "  <tbody>\n",
       "    <tr>\n",
       "      <th>473</th>\n",
       "      <td>We should have never developed LCDs beyond cal...</td>\n",
       "      <td>&amp;gt;&amp;gt;89325358&amp;gt;you guys hate tech. and yo...</td>\n",
       "      <td>(&amp;, gt;&amp;gt;89325358&amp;gt;you, guys, hate, tech, ...</td>\n",
       "      <td>17</td>\n",
       "      <td>-0.8</td>\n",
       "    </tr>\n",
       "    <tr>\n",
       "      <th>633</th>\n",
       "      <td>What&amp;#039;s/g/ opinion on Gropro cameras?</td>\n",
       "      <td>&amp;gt;&amp;gt;89325096why do they all have a fisheye...</td>\n",
       "      <td>(&amp;, gt;&amp;gt;89325096why, do, they, all, have, a...</td>\n",
       "      <td>14</td>\n",
       "      <td>-0.8</td>\n",
       "    </tr>\n",
       "    <tr>\n",
       "      <th>642</th>\n",
       "      <td>&amp;gt;13600K nearly matches the 5950X in renderi...</td>\n",
       "      <td>&amp;gt;&amp;gt;89325006I didn&amp;#039;t decide /thread&amp;g...</td>\n",
       "      <td>(&amp;, gt;&amp;gt;89325006I, didn&amp;#039;t, decide, /th...</td>\n",
       "      <td>6</td>\n",
       "      <td>-0.9</td>\n",
       "    </tr>\n",
       "    <tr>\n",
       "      <th>181</th>\n",
       "      <td>&amp;gt;&amp;gt;89219164Don&amp;#039;t buy anything OTHER ...</td>\n",
       "      <td>&amp;gt;&amp;gt;89326874No. Bad. Don&amp;#039;t buy what i...</td>\n",
       "      <td>(&amp;, gt;&amp;gt;89326874No, ., Bad, ., Don&amp;#039;t, ...</td>\n",
       "      <td>17</td>\n",
       "      <td>-0.7</td>\n",
       "    </tr>\n",
       "    <tr>\n",
       "      <th>489</th>\n",
       "      <td>What will swimming in ~60 degree water every o...</td>\n",
       "      <td>&amp;gt;&amp;gt;89326841No, i meant 70F retardI said c...</td>\n",
       "      <td>(&amp;, gt;&amp;gt;89326841No, ,, i, meant, 70F, retar...</td>\n",
       "      <td>15</td>\n",
       "      <td>-0.6</td>\n",
       "    </tr>\n",
       "  </tbody>\n",
       "</table>\n",
       "</div>"
      ],
      "text/plain": [
       "                                                 title  \\\n",
       "473  We should have never developed LCDs beyond cal...   \n",
       "633          What&#039;s/g/ opinion on Gropro cameras?   \n",
       "642  &gt;13600K nearly matches the 5950X in renderi...   \n",
       "181  &gt;&gt;89219164Don&#039;t buy anything OTHER ...   \n",
       "489  What will swimming in ~60 degree water every o...   \n",
       "\n",
       "                                               comment  \\\n",
       "473  &gt;&gt;89325358&gt;you guys hate tech. and yo...   \n",
       "633  &gt;&gt;89325096why do they all have a fisheye...   \n",
       "642  &gt;&gt;89325006I didn&#039;t decide /thread&g...   \n",
       "181  &gt;&gt;89326874No. Bad. Don&#039;t buy what i...   \n",
       "489  &gt;&gt;89326841No, i meant 70F retardI said c...   \n",
       "\n",
       "                                                   doc  length  sentiment  \n",
       "473  (&, gt;&gt;89325358&gt;you, guys, hate, tech, ...      17       -0.8  \n",
       "633  (&, gt;&gt;89325096why, do, they, all, have, a...      14       -0.8  \n",
       "642  (&, gt;&gt;89325006I, didn&#039;t, decide, /th...       6       -0.9  \n",
       "181  (&, gt;&gt;89326874No, ., Bad, ., Don&#039;t, ...      17       -0.7  \n",
       "489  (&, gt;&gt;89326841No, ,, i, meant, 70F, retar...      15       -0.6  "
      ]
     },
     "execution_count": 21,
     "metadata": {},
     "output_type": "execute_result"
    }
   ],
   "source": [
    "# show 5 samples of negative comments, in which sentiment is less than -0.5\n",
    "df[df['sentiment'] < -0.5].sample(5)"
   ]
  },
  {
   "cell_type": "code",
   "execution_count": 22,
   "metadata": {},
   "outputs": [
    {
     "data": {
      "text/html": [
       "<div>\n",
       "<style scoped>\n",
       "    .dataframe tbody tr th:only-of-type {\n",
       "        vertical-align: middle;\n",
       "    }\n",
       "\n",
       "    .dataframe tbody tr th {\n",
       "        vertical-align: top;\n",
       "    }\n",
       "\n",
       "    .dataframe thead th {\n",
       "        text-align: right;\n",
       "    }\n",
       "</style>\n",
       "<table border=\"1\" class=\"dataframe\">\n",
       "  <thead>\n",
       "    <tr style=\"text-align: right;\">\n",
       "      <th></th>\n",
       "      <th>title</th>\n",
       "      <th>comment</th>\n",
       "      <th>doc</th>\n",
       "      <th>length</th>\n",
       "      <th>sentiment</th>\n",
       "    </tr>\n",
       "  </thead>\n",
       "  <tbody>\n",
       "    <tr>\n",
       "      <th>501</th>\n",
       "      <td>Can you please help me choosing a good search ...</td>\n",
       "      <td>&amp;gt;&amp;gt;89318800&amp;gt;Can you please help me cho...</td>\n",
       "      <td>(&amp;, gt;&amp;gt;89318800&amp;gt;Can, you, please, help,...</td>\n",
       "      <td>14</td>\n",
       "      <td>0.700</td>\n",
       "    </tr>\n",
       "    <tr>\n",
       "      <th>342</th>\n",
       "      <td>Seriously, why wouldn&amp;#039;t this work?</td>\n",
       "      <td>&amp;gt;&amp;gt;89324496&amp;gt;thing gets warm by itself&amp;...</td>\n",
       "      <td>(&amp;, gt;&amp;gt;89324496&amp;gt;thing, gets, warm, by, ...</td>\n",
       "      <td>26</td>\n",
       "      <td>0.550</td>\n",
       "    </tr>\n",
       "    <tr>\n",
       "      <th>248</th>\n",
       "      <td>&amp;gt;UPGRADE &amp;amp; BUILD ADVICEPost build list ...</td>\n",
       "      <td>&amp;gt;&amp;gt;8932767964gb minimum for win 11, you m...</td>\n",
       "      <td>(&amp;, gt;&amp;gt;8932767964, gb, minimum, for, win, ...</td>\n",
       "      <td>22</td>\n",
       "      <td>0.800</td>\n",
       "    </tr>\n",
       "    <tr>\n",
       "      <th>659</th>\n",
       "      <td>What company makes cables and cords that work ...</td>\n",
       "      <td>&amp;gt;&amp;gt;89323725Lapp Kabel makes the best. But...</td>\n",
       "      <td>(&amp;, gt;&amp;gt;89323725Lapp, Kabel, makes, the, be...</td>\n",
       "      <td>14</td>\n",
       "      <td>0.625</td>\n",
       "    </tr>\n",
       "    <tr>\n",
       "      <th>524</th>\n",
       "      <td>How is Java being used these days?Is it mostly...</td>\n",
       "      <td>&amp;gt;&amp;gt;89325646&amp;gt;cancer behaves like cancer...</td>\n",
       "      <td>(&amp;, gt;&amp;gt;89325646&amp;gt;cancer, behaves, like, ...</td>\n",
       "      <td>32</td>\n",
       "      <td>0.700</td>\n",
       "    </tr>\n",
       "  </tbody>\n",
       "</table>\n",
       "</div>"
      ],
      "text/plain": [
       "                                                 title  \\\n",
       "501  Can you please help me choosing a good search ...   \n",
       "342            Seriously, why wouldn&#039;t this work?   \n",
       "248  &gt;UPGRADE &amp; BUILD ADVICEPost build list ...   \n",
       "659  What company makes cables and cords that work ...   \n",
       "524  How is Java being used these days?Is it mostly...   \n",
       "\n",
       "                                               comment  \\\n",
       "501  &gt;&gt;89318800&gt;Can you please help me cho...   \n",
       "342  &gt;&gt;89324496&gt;thing gets warm by itself&...   \n",
       "248  &gt;&gt;8932767964gb minimum for win 11, you m...   \n",
       "659  &gt;&gt;89323725Lapp Kabel makes the best. But...   \n",
       "524  &gt;&gt;89325646&gt;cancer behaves like cancer...   \n",
       "\n",
       "                                                   doc  length  sentiment  \n",
       "501  (&, gt;&gt;89318800&gt;Can, you, please, help,...      14      0.700  \n",
       "342  (&, gt;&gt;89324496&gt;thing, gets, warm, by, ...      26      0.550  \n",
       "248  (&, gt;&gt;8932767964, gb, minimum, for, win, ...      22      0.800  \n",
       "659  (&, gt;&gt;89323725Lapp, Kabel, makes, the, be...      14      0.625  \n",
       "524  (&, gt;&gt;89325646&gt;cancer, behaves, like, ...      32      0.700  "
      ]
     },
     "execution_count": 22,
     "metadata": {},
     "output_type": "execute_result"
    }
   ],
   "source": [
    "# show 5 samples of positive comments, in which sentiment is greater than 0.5\n",
    "df[df['sentiment'] > 0.5].sample(5)"
   ]
  },
  {
   "cell_type": "code",
   "execution_count": null,
   "metadata": {},
   "outputs": [],
   "source": []
  }
 ],
 "metadata": {
  "kernelspec": {
   "display_name": "Python 3.10.7 64-bit",
   "language": "python",
   "name": "python3"
  },
  "language_info": {
   "codemirror_mode": {
    "name": "ipython",
    "version": 3
   },
   "file_extension": ".py",
   "mimetype": "text/x-python",
   "name": "python",
   "nbconvert_exporter": "python",
   "pygments_lexer": "ipython3",
   "version": "3.10.7"
  },
  "orig_nbformat": 4,
  "vscode": {
   "interpreter": {
    "hash": "85c576d62e5a69baba7dcae6282c7bf6fba6f8d537c9cbb11ca984aece3c77a0"
   }
  }
 },
 "nbformat": 4,
 "nbformat_minor": 2
}
