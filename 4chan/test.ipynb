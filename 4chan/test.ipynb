{
 "cells": [
  {
   "cell_type": "code",
   "execution_count": 1,
   "metadata": {},
   "outputs": [],
   "source": [
    "import pandas as pd"
   ]
  },
  {
   "cell_type": "code",
   "execution_count": 3,
   "metadata": {},
   "outputs": [
    {
     "data": {
      "text/html": [
       "<div>\n",
       "<style scoped>\n",
       "    .dataframe tbody tr th:only-of-type {\n",
       "        vertical-align: middle;\n",
       "    }\n",
       "\n",
       "    .dataframe tbody tr th {\n",
       "        vertical-align: top;\n",
       "    }\n",
       "\n",
       "    .dataframe thead th {\n",
       "        text-align: right;\n",
       "    }\n",
       "</style>\n",
       "<table border=\"1\" class=\"dataframe\">\n",
       "  <thead>\n",
       "    <tr style=\"text-align: right;\">\n",
       "      <th></th>\n",
       "      <th>Term</th>\n",
       "      <th>Location</th>\n",
       "      <th>Target</th>\n",
       "      <th>Meaning</th>\n",
       "    </tr>\n",
       "  </thead>\n",
       "  <tbody>\n",
       "    <tr>\n",
       "      <th>0</th>\n",
       "      <td>abbie abe abie</td>\n",
       "      <td>north america</td>\n",
       "      <td>jewish men</td>\n",
       "      <td>originated before the 1950s from the proper na...</td>\n",
       "    </tr>\n",
       "    <tr>\n",
       "      <th>1</th>\n",
       "      <td>abc</td>\n",
       "      <td>east asia</td>\n",
       "      <td>americanborn chinese han or other chinese incl...</td>\n",
       "      <td>the term implies an otherness or lack of conne...</td>\n",
       "    </tr>\n",
       "    <tr>\n",
       "      <th>2</th>\n",
       "      <td>abcd</td>\n",
       "      <td>south asians in the us</td>\n",
       "      <td>americanborn confused desi indian americans or...</td>\n",
       "      <td>used chiefly by south asian immigrants to impl...</td>\n",
       "    </tr>\n",
       "    <tr>\n",
       "      <th>3</th>\n",
       "      <td>abidabeed plural</td>\n",
       "      <td>middle east and north africa</td>\n",
       "      <td>black african people</td>\n",
       "      <td>arabic for slave associated with the arab slav...</td>\n",
       "    </tr>\n",
       "    <tr>\n",
       "      <th>4</th>\n",
       "      <td>aboabbo</td>\n",
       "      <td>australia</td>\n",
       "      <td>australian aboriginal person</td>\n",
       "      <td>originally this was simply an informal term fo...</td>\n",
       "    </tr>\n",
       "    <tr>\n",
       "      <th>5</th>\n",
       "      <td>afro engineering african engineering or nigger...</td>\n",
       "      <td>united states</td>\n",
       "      <td>black american people</td>\n",
       "      <td>shoddy secondrate or unconventional makeshift ...</td>\n",
       "    </tr>\n",
       "    <tr>\n",
       "      <th>6</th>\n",
       "      <td>ah chah</td>\n",
       "      <td>hong kong</td>\n",
       "      <td>south asian people</td>\n",
       "      <td>from cantonese yale ach from acch meaning good...</td>\n",
       "    </tr>\n",
       "    <tr>\n",
       "      <th>7</th>\n",
       "      <td>ali baba</td>\n",
       "      <td>united states</td>\n",
       "      <td>iraqi people</td>\n",
       "      <td>an iraqi suspected of criminal activity</td>\n",
       "    </tr>\n",
       "    <tr>\n",
       "      <th>8</th>\n",
       "      <td>alligator bait gator bait</td>\n",
       "      <td>united states more commonly used in states whe...</td>\n",
       "      <td>black people especially black children</td>\n",
       "      <td>first used in the early 20th century although ...</td>\n",
       "    </tr>\n",
       "    <tr>\n",
       "      <th>9</th>\n",
       "      <td>alpine serb</td>\n",
       "      <td>serbocroatian alpski srbin exyugoslavia</td>\n",
       "      <td>people of slovenian origin</td>\n",
       "      <td></td>\n",
       "    </tr>\n",
       "  </tbody>\n",
       "</table>\n",
       "</div>"
      ],
      "text/plain": [
       "                                                Term  \\\n",
       "0                                    abbie abe abie    \n",
       "1                                               abc    \n",
       "2                                              abcd    \n",
       "3                                  abidabeed plural    \n",
       "4                                           aboabbo    \n",
       "5  afro engineering african engineering or nigger...   \n",
       "6                                           ah chah    \n",
       "7                                          ali baba    \n",
       "8                         alligator bait gator bait    \n",
       "9                                       alpine serb    \n",
       "\n",
       "                                            Location  \\\n",
       "0                                     north america    \n",
       "1                                         east asia    \n",
       "2                            south asians in the us    \n",
       "3                      middle east and north africa    \n",
       "4                                         australia    \n",
       "5                                     united states    \n",
       "6                                         hong kong    \n",
       "7                                     united states    \n",
       "8  united states more commonly used in states whe...   \n",
       "9           serbocroatian alpski srbin exyugoslavia    \n",
       "\n",
       "                                              Target  \\\n",
       "0                                        jewish men    \n",
       "1  americanborn chinese han or other chinese incl...   \n",
       "2  americanborn confused desi indian americans or...   \n",
       "3                              black african people    \n",
       "4                      australian aboriginal person    \n",
       "5                             black american people    \n",
       "6                                south asian people    \n",
       "7                                      iraqi people    \n",
       "8            black people especially black children    \n",
       "9                        people of slovenian origin    \n",
       "\n",
       "                                             Meaning  \n",
       "0  originated before the 1950s from the proper na...  \n",
       "1  the term implies an otherness or lack of conne...  \n",
       "2  used chiefly by south asian immigrants to impl...  \n",
       "3  arabic for slave associated with the arab slav...  \n",
       "4  originally this was simply an informal term fo...  \n",
       "5  shoddy secondrate or unconventional makeshift ...  \n",
       "6  from cantonese yale ach from acch meaning good...  \n",
       "7           an iraqi suspected of criminal activity   \n",
       "8  first used in the early 20th century although ...  \n",
       "9                                                     "
      ]
     },
     "execution_count": 3,
     "metadata": {},
     "output_type": "execute_result"
    }
   ],
   "source": [
    "df = pd.read_csv('../ethnic_slurs.csv')\n",
    "\n",
    "df.head(10)"
   ]
  },
  {
   "cell_type": "code",
   "execution_count": 4,
   "metadata": {},
   "outputs": [
    {
     "data": {
      "text/plain": [
       "(401, 4)"
      ]
     },
     "execution_count": 4,
     "metadata": {},
     "output_type": "execute_result"
    }
   ],
   "source": [
    "df.shape"
   ]
  }
 ],
 "metadata": {
  "kernelspec": {
   "display_name": "Python 3.10.6 64-bit",
   "language": "python",
   "name": "python3"
  },
  "language_info": {
   "codemirror_mode": {
    "name": "ipython",
    "version": 3
   },
   "file_extension": ".py",
   "mimetype": "text/x-python",
   "name": "python",
   "nbconvert_exporter": "python",
   "pygments_lexer": "ipython3",
   "version": "3.10.6"
  },
  "orig_nbformat": 4,
  "vscode": {
   "interpreter": {
    "hash": "916dbcbb3f70747c44a77c7bcd40155683ae19c65e1c03b4aa3499c5328201f1"
   }
  }
 },
 "nbformat": 4,
 "nbformat_minor": 2
}
