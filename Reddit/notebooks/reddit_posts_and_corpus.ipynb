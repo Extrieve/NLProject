{
 "cells": [
  {
   "cell_type": "markdown",
   "metadata": {},
   "source": [
    "# Project Roadmap\n",
    "\n",
    "1. Reddit Credentials\n",
    "- Must request again in two hours\n",
    "2. Read in master corpus and posts files\n",
    "- Check Shape of master files\n",
    "3. Reddit API Request for post about the Iran Protest\n",
    "- Use master posts file to remove those posts from the search (if not in)\n",
    "- Check request was fulfilled\n",
    "- Add posts to the master post fike\n",
    "4. Extract comments from the Reddit posts to create Reddit corpus\n",
    "- Check results\n",
    "- Append to master Reddit corpus"
   ]
  },
  {
   "cell_type": "markdown",
   "metadata": {},
   "source": [
    "Group NPL project with Shyam Parmar, Dalton Anderson, Pankaj Tiwari, Nicolas Pardo"
   ]
  },
  {
   "cell_type": "code",
   "execution_count": 141,
   "metadata": {},
   "outputs": [],
   "source": [
    "#conda install -c conda-forge praw\n",
    "import praw\n",
    "from praw.models import MoreComments"
   ]
  },
  {
   "cell_type": "markdown",
   "metadata": {},
   "source": [
    "### Reddit Credentials\n",
    "Note: You time out every two hours."
   ]
  },
  {
   "cell_type": "markdown",
   "metadata": {},
   "source": [
    "Burner Username"
   ]
  },
  {
   "cell_type": "code",
   "execution_count": 142,
   "metadata": {},
   "outputs": [],
   "source": [
    "#reddit API libraries\n",
    "import praw\n",
    "from praw.models import MoreComments\n",
    "\n",
    "\n",
    "reddit = praw.Reddit(\n",
    "    client_id=\"AgBU02dj707y5YyTR8XoHg\",\n",
    "    client_secret=\"WMRNBYswf61uSYV2nb-fOOyt5BWEKw\",\n",
    "    password=\"Pb24914822\",\n",
    "    user_agent=\"USF MS Text Project\",\n",
    "    username=\"daticsv2\",\n",
    ")"
   ]
  },
  {
   "cell_type": "markdown",
   "metadata": {},
   "source": [
    "Verify credentials by calling account username"
   ]
  },
  {
   "cell_type": "code",
   "execution_count": 143,
   "metadata": {},
   "outputs": [
    {
     "name": "stdout",
     "output_type": "stream",
     "text": [
      "daticsV2\n"
     ]
    }
   ],
   "source": [
    "#check to make sure I am authenticated\n",
    "print(reddit.user.me())"
   ]
  },
  {
   "cell_type": "markdown",
   "metadata": {},
   "source": [
    "**Read in master comment and post list to ensure data quality**"
   ]
  },
  {
   "cell_type": "code",
   "execution_count": 145,
   "metadata": {},
   "outputs": [],
   "source": [
    "import os \n",
    "\n",
    "os.chdir('/Users/daltonanderson/Documents/USF/Fall-2022/ISM6930 Text Analytics/Final Project Text Analysis on Social Platforms/Reddit')\n",
    "\n",
    "\n",
    "import pandas as pd \n",
    "\n",
    "master_posts = pd.read_csv (r'iran_protest_posts.csv')\n",
    "master_posts_id = master_posts['id'].unique()\n",
    "\n",
    "master_corpus = pd.read_csv (r'iran_protest_corpus.csv')\n",
    "master_corpus_id = master_corpus['id'].unique()\n",
    "\n",
    "\n",
    "#master_id = master_id.tolist()\n",
    "#master_id = master_id.sort()"
   ]
  },
  {
   "cell_type": "code",
   "execution_count": 147,
   "metadata": {},
   "outputs": [
    {
     "name": "stdout",
     "output_type": "stream",
     "text": [
      "Master posts shape (102, 8) (101,)\n",
      "Master corpus shape (8073, 4) (7796,)\n"
     ]
    }
   ],
   "source": [
    "print('Master posts shape', master_posts.shape, master_posts_id.shape)\n",
    "print('Master corpus shape', master_corpus.shape, master_corpus_id.shape)"
   ]
  },
  {
   "cell_type": "markdown",
   "metadata": {},
   "source": [
    "# Reddit API request for post about the Iran Protest\n",
    "Only 600 requests allowed per 10 mins or 100 per min"
   ]
  },
  {
   "cell_type": "code",
   "execution_count": 148,
   "metadata": {},
   "outputs": [
    {
     "data": {
      "text/html": [
       "<div>\n",
       "<style scoped>\n",
       "    .dataframe tbody tr th:only-of-type {\n",
       "        vertical-align: middle;\n",
       "    }\n",
       "\n",
       "    .dataframe tbody tr th {\n",
       "        vertical-align: top;\n",
       "    }\n",
       "\n",
       "    .dataframe thead th {\n",
       "        text-align: right;\n",
       "    }\n",
       "</style>\n",
       "<table border=\"1\" class=\"dataframe\">\n",
       "  <thead>\n",
       "    <tr style=\"text-align: right;\">\n",
       "      <th></th>\n",
       "      <th>id</th>\n",
       "      <th>subreddit</th>\n",
       "      <th>title</th>\n",
       "      <th>score</th>\n",
       "      <th>num_comments</th>\n",
       "      <th>body</th>\n",
       "      <th>url</th>\n",
       "      <th>created</th>\n",
       "    </tr>\n",
       "  </thead>\n",
       "  <tbody>\n",
       "    <tr>\n",
       "      <th>0</th>\n",
       "      <td>xnx07i</td>\n",
       "      <td>worldnews</td>\n",
       "      <td>Iran protests Western stance on mass protests ...</td>\n",
       "      <td>4104</td>\n",
       "      <td>289</td>\n",
       "      <td></td>\n",
       "      <td>https://www.reuters.com/world/middle-east/iran...</td>\n",
       "      <td>1.664135e+09</td>\n",
       "    </tr>\n",
       "  </tbody>\n",
       "</table>\n",
       "</div>"
      ],
      "text/plain": [
       "       id  subreddit                                              title  \\\n",
       "0  xnx07i  worldnews  Iran protests Western stance on mass protests ...   \n",
       "\n",
       "   score  num_comments body  \\\n",
       "0   4104           289        \n",
       "\n",
       "                                                 url       created  \n",
       "0  https://www.reuters.com/world/middle-east/iran...  1.664135e+09  "
      ]
     },
     "execution_count": 148,
     "metadata": {},
     "output_type": "execute_result"
    }
   ],
   "source": [
    "import pandas as pd\n",
    "import numpy as np\n",
    "posts = []\n",
    "\n",
    "subreddit_name = reddit.subreddit('all')\n",
    "for post in subreddit_name.search(\"Iran Protest\"):\n",
    "    if post.id not in master_posts_id and post.num_comments >= 1:\n",
    "        posts.append([post.id, post.subreddit, post.title, post.score, post.num_comments, post.selftext, post.url, post.created])\n",
    "        iran_protest_posts_df = pd.DataFrame(posts,columns=['id', 'subreddit', 'title', 'score', 'num_comments', 'body', 'url', 'created',])\n",
    "    else:\n",
    "         pass\n",
    "iran_protest_posts_df.head(5)"
   ]
  },
  {
   "cell_type": "markdown",
   "metadata": {},
   "source": [
    "Check Shape"
   ]
  },
  {
   "cell_type": "code",
   "execution_count": 134,
   "metadata": {},
   "outputs": [
    {
     "data": {
      "text/plain": [
       "(1, 8)"
      ]
     },
     "execution_count": 134,
     "metadata": {},
     "output_type": "execute_result"
    }
   ],
   "source": [
    "iran_protest_posts_df.shape"
   ]
  },
  {
   "cell_type": "code",
   "execution_count": 135,
   "metadata": {},
   "outputs": [
    {
     "data": {
      "text/plain": [
       "(102, 8)"
      ]
     },
     "execution_count": 135,
     "metadata": {},
     "output_type": "execute_result"
    }
   ],
   "source": [
    "new_master_posts = pd.concat([iran_protest_posts_df, master_posts], ignore_index=True)\n",
    "new_master_posts.shape"
   ]
  },
  {
   "cell_type": "markdown",
   "metadata": {},
   "source": [
    "Add the new posts to the dataset"
   ]
  },
  {
   "cell_type": "code",
   "execution_count": 136,
   "metadata": {},
   "outputs": [],
   "source": [
    "new_master_posts.to_csv('iran_protest_posts.csv', index=False)"
   ]
  },
  {
   "cell_type": "markdown",
   "metadata": {},
   "source": [
    "# Extracts comments from the Reddit posts to create Reddit corpus"
   ]
  },
  {
   "cell_type": "markdown",
   "metadata": {},
   "source": [
    "Only 600 requests allowed per 10 mins"
   ]
  },
  {
   "cell_type": "code",
   "execution_count": 137,
   "metadata": {},
   "outputs": [
    {
     "data": {
      "text/html": [
       "<div>\n",
       "<style scoped>\n",
       "    .dataframe tbody tr th:only-of-type {\n",
       "        vertical-align: middle;\n",
       "    }\n",
       "\n",
       "    .dataframe tbody tr th {\n",
       "        vertical-align: top;\n",
       "    }\n",
       "\n",
       "    .dataframe thead th {\n",
       "        text-align: right;\n",
       "    }\n",
       "</style>\n",
       "<table border=\"1\" class=\"dataframe\">\n",
       "  <thead>\n",
       "    <tr style=\"text-align: right;\">\n",
       "      <th></th>\n",
       "      <th>id</th>\n",
       "      <th>subreddit</th>\n",
       "      <th>body</th>\n",
       "      <th>created</th>\n",
       "    </tr>\n",
       "  </thead>\n",
       "  <tbody>\n",
       "    <tr>\n",
       "      <th>0</th>\n",
       "      <td>ipwiccq</td>\n",
       "      <td>worldnews</td>\n",
       "      <td>&gt; Iran protests Western stance on mass protest...</td>\n",
       "      <td>1.664147e+09</td>\n",
       "    </tr>\n",
       "    <tr>\n",
       "      <th>1</th>\n",
       "      <td>ipvtdwd</td>\n",
       "      <td>worldnews</td>\n",
       "      <td>Iran for the past 40+ years: \"Fuck the west\"  ...</td>\n",
       "      <td>1.664137e+09</td>\n",
       "    </tr>\n",
       "    <tr>\n",
       "      <th>2</th>\n",
       "      <td>ipvyfc3</td>\n",
       "      <td>worldnews</td>\n",
       "      <td>\" ...  over what it called interference and ho...</td>\n",
       "      <td>1.664139e+09</td>\n",
       "    </tr>\n",
       "    <tr>\n",
       "      <th>3</th>\n",
       "      <td>ipvpcc7</td>\n",
       "      <td>worldnews</td>\n",
       "      <td>We should protest their protest response prote...</td>\n",
       "      <td>1.664135e+09</td>\n",
       "    </tr>\n",
       "    <tr>\n",
       "      <th>4</th>\n",
       "      <td>ipvrv10</td>\n",
       "      <td>worldnews</td>\n",
       "      <td>This is the best tl;dr I could make, [original...</td>\n",
       "      <td>1.664136e+09</td>\n",
       "    </tr>\n",
       "  </tbody>\n",
       "</table>\n",
       "</div>"
      ],
      "text/plain": [
       "        id  subreddit                                               body  \\\n",
       "0  ipwiccq  worldnews  > Iran protests Western stance on mass protest...   \n",
       "1  ipvtdwd  worldnews  Iran for the past 40+ years: \"Fuck the west\"  ...   \n",
       "2  ipvyfc3  worldnews  \" ...  over what it called interference and ho...   \n",
       "3  ipvpcc7  worldnews  We should protest their protest response prote...   \n",
       "4  ipvrv10  worldnews  This is the best tl;dr I could make, [original...   \n",
       "\n",
       "        created  \n",
       "0  1.664147e+09  \n",
       "1  1.664137e+09  \n",
       "2  1.664139e+09  \n",
       "3  1.664135e+09  \n",
       "4  1.664136e+09  "
      ]
     },
     "execution_count": 137,
     "metadata": {},
     "output_type": "execute_result"
    }
   ],
   "source": [
    "comments = []\n",
    "#when you use df pw id you need to convert it to a list first\n",
    "post_id = iran_protest_posts_df.id.tolist()\n",
    "\n",
    "\n",
    "for i in post_id:\n",
    "\n",
    "    submission = reddit.submission(id=i)\n",
    "\n",
    "    # get all comments from submission\n",
    "\n",
    "    submission.comments.replace_more(limit=None)\n",
    "\n",
    "    for comment in submission.comments.list():\n",
    "\n",
    "        comments.append([comment.id, comment.subreddit, comment.body, comment.created])\n",
    "\n",
    "\n",
    "\n",
    "\n",
    "comments_df = pd.DataFrame(comments,columns=['id', 'subreddit', 'body', 'created',])\n",
    "\n",
    "comments_df.head(5)"
   ]
  },
  {
   "cell_type": "markdown",
   "metadata": {},
   "source": [
    "Check shape"
   ]
  },
  {
   "cell_type": "code",
   "execution_count": 151,
   "metadata": {},
   "outputs": [
    {
     "data": {
      "text/html": [
       "<div>\n",
       "<style scoped>\n",
       "    .dataframe tbody tr th:only-of-type {\n",
       "        vertical-align: middle;\n",
       "    }\n",
       "\n",
       "    .dataframe tbody tr th {\n",
       "        vertical-align: top;\n",
       "    }\n",
       "\n",
       "    .dataframe thead th {\n",
       "        text-align: right;\n",
       "    }\n",
       "</style>\n",
       "<table border=\"1\" class=\"dataframe\">\n",
       "  <thead>\n",
       "    <tr style=\"text-align: right;\">\n",
       "      <th></th>\n",
       "      <th>id</th>\n",
       "      <th>subreddit</th>\n",
       "      <th>body</th>\n",
       "      <th>created</th>\n",
       "    </tr>\n",
       "  </thead>\n",
       "  <tbody>\n",
       "    <tr>\n",
       "      <th>0</th>\n",
       "      <td>ipwiccq</td>\n",
       "      <td>worldnews</td>\n",
       "      <td>&gt; Iran protests Western stance on mass protest...</td>\n",
       "      <td>1.664147e+09</td>\n",
       "    </tr>\n",
       "    <tr>\n",
       "      <th>1</th>\n",
       "      <td>ipvtdwd</td>\n",
       "      <td>worldnews</td>\n",
       "      <td>Iran for the past 40+ years: \"Fuck the west\"  ...</td>\n",
       "      <td>1.664137e+09</td>\n",
       "    </tr>\n",
       "    <tr>\n",
       "      <th>2</th>\n",
       "      <td>ipvyfc3</td>\n",
       "      <td>worldnews</td>\n",
       "      <td>\" ...  over what it called interference and ho...</td>\n",
       "      <td>1.664139e+09</td>\n",
       "    </tr>\n",
       "    <tr>\n",
       "      <th>3</th>\n",
       "      <td>ipvpcc7</td>\n",
       "      <td>worldnews</td>\n",
       "      <td>We should protest their protest response prote...</td>\n",
       "      <td>1.664135e+09</td>\n",
       "    </tr>\n",
       "    <tr>\n",
       "      <th>4</th>\n",
       "      <td>ipvrv10</td>\n",
       "      <td>worldnews</td>\n",
       "      <td>This is the best tl;dr I could make, [original...</td>\n",
       "      <td>1.664136e+09</td>\n",
       "    </tr>\n",
       "  </tbody>\n",
       "</table>\n",
       "</div>"
      ],
      "text/plain": [
       "        id  subreddit                                               body  \\\n",
       "0  ipwiccq  worldnews  > Iran protests Western stance on mass protest...   \n",
       "1  ipvtdwd  worldnews  Iran for the past 40+ years: \"Fuck the west\"  ...   \n",
       "2  ipvyfc3  worldnews  \" ...  over what it called interference and ho...   \n",
       "3  ipvpcc7  worldnews  We should protest their protest response prote...   \n",
       "4  ipvrv10  worldnews  This is the best tl;dr I could make, [original...   \n",
       "\n",
       "        created  \n",
       "0  1.664147e+09  \n",
       "1  1.664137e+09  \n",
       "2  1.664139e+09  \n",
       "3  1.664135e+09  \n",
       "4  1.664136e+09  "
      ]
     },
     "execution_count": 151,
     "metadata": {},
     "output_type": "execute_result"
    }
   ],
   "source": [
    "comments_df.head(5)"
   ]
  },
  {
   "cell_type": "code",
   "execution_count": 138,
   "metadata": {},
   "outputs": [
    {
     "data": {
      "text/plain": [
       "(277, 4)"
      ]
     },
     "execution_count": 138,
     "metadata": {},
     "output_type": "execute_result"
    }
   ],
   "source": [
    "comments_df.shape"
   ]
  },
  {
   "cell_type": "markdown",
   "metadata": {},
   "source": [
    "Append to master Reddit corpus"
   ]
  },
  {
   "cell_type": "code",
   "execution_count": 139,
   "metadata": {},
   "outputs": [
    {
     "data": {
      "text/plain": [
       "(8073, 4)"
      ]
     },
     "execution_count": 139,
     "metadata": {},
     "output_type": "execute_result"
    }
   ],
   "source": [
    "new_master_corpus = pd.concat([comments_df, master_corpus], ignore_index=True)\n",
    "new_master_corpus.shape"
   ]
  },
  {
   "cell_type": "markdown",
   "metadata": {},
   "source": [
    "Add new comments to corpus dataset"
   ]
  },
  {
   "cell_type": "code",
   "execution_count": 140,
   "metadata": {},
   "outputs": [],
   "source": [
    "new_master_corpus.to_csv('iran_protest_corpus.csv', index=False)"
   ]
  }
 ],
 "metadata": {
  "kernelspec": {
   "display_name": "Python 3.9.13 ('Python_v3_9_13')",
   "language": "python",
   "name": "python3"
  },
  "language_info": {
   "codemirror_mode": {
    "name": "ipython",
    "version": 3
   },
   "file_extension": ".py",
   "mimetype": "text/x-python",
   "name": "python",
   "nbconvert_exporter": "python",
   "pygments_lexer": "ipython3",
   "version": "3.9.13"
  },
  "orig_nbformat": 4,
  "vscode": {
   "interpreter": {
    "hash": "ff4b639b753c6fa34c83f549dd8821199fbc408c013b931bda3b465c931d17a1"
   }
  }
 },
 "nbformat": 4,
 "nbformat_minor": 2
}
