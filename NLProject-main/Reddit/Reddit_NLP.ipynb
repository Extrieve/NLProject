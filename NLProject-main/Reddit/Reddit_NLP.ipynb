{
 "cells": [
  {
   "cell_type": "markdown",
   "metadata": {},
   "source": [
    "# Analysis on Reddit Posts"
   ]
  },
  {
   "cell_type": "code",
   "execution_count": 2,
   "metadata": {},
   "outputs": [],
   "source": [
    "# Import libraries\n",
    "\n",
    "# Usual libraries\n",
    "import pandas as pd\n",
    "import numpy as np\n",
    "import matplotlib.pyplot as plt\n",
    "import time\n",
    "import re\n",
    "import string\n",
    "import random\n",
    "\n",
    "# NLTK\n",
    "import nltk\n",
    "from nltk.tokenize import regexp_tokenize\n",
    "from nltk.corpus import stopwords\n",
    "from nltk.stem import WordNetLemmatizer\n",
    "from nltk.sentiment.vader import SentimentIntensityAnalyzer\n",
    "analyzer = SentimentIntensityAnalyzer()\n",
    "\n",
    "# Assigning variables\n",
    "lemmatizer = nltk.stem.WordNetLemmatizer()\n",
    "w_tokenizer = nltk.tokenize.WhitespaceTokenizer()\n",
    "stop_words = stopwords.words('english')\n",
    "\n",
    "# Scikit-learn\n",
    "from sklearn.model_selection import train_test_split\n",
    "from sklearn.metrics import accuracy_score, precision_score, recall_score\n",
    "from sklearn.metrics import confusion_matrix, classification_report\n",
    "from sklearn.metrics import f1_score, recall_score, precision_score, confusion_matrix, classification_report\n",
    "from sklearn.model_selection import cross_val_score\n",
    "from sklearn.decomposition import TruncatedSVD\n",
    "from sklearn.feature_extraction.text import TfidfVectorizer\n",
    "\n",
    "# Models\n",
    "from sklearn.linear_model import LogisticRegression\n",
    "#import xgboost as xgb\n",
    "#import lightgbm as gbm\n",
    "#from lightgbm import LGBMClassifier\n",
    "from sklearn.neighbors import KNeighborsClassifier\n",
    "\n",
    "# Doc/Word Vectors\n",
    "from gensim.models.fasttext import FastText\n",
    "from gensim.models.doc2vec import Doc2Vec, TaggedDocument\n",
    "from gensim.models import Word2Vec\n",
    "from gensim.utils import simple_preprocess\n",
    "from gensim.corpora import Dictionary\n",
    "\n",
    "# LDA and LSI Models\n",
    "from sklearn.decomposition import LatentDirichletAllocation as LDA\n",
    "from gensim.models import LsiModel, CoherenceModel\n",
    "from gensim.models import TfidfModel\n",
    "from gensim.models import LdaModel, LdaMulticore\n",
    "from gensim import corpora, models\n",
    "import pyLDAvis\n",
    "import pyLDAvis.gensim_models as gensimvis\n",
    "pyLDAvis.enable_notebook()\n",
    "\n",
    "# Spacy\n",
    "import spacy\n",
    "from spacy.lang.en.examples import sentences\n",
    "from spacy import displacy\n",
    "from spacytextblob.spacytextblob import SpacyTextBlob\n",
    "nlp = spacy.load(\"en_core_web_sm\")\n",
    "nlp.add_pipe('spacytextblob')\n",
    "stopwords_nlp = nlp.Defaults.stop_words\n",
    "\n",
    "# LIME and SHAP\n",
    "from sklearn.pipeline import make_pipeline\n",
    "from lime.lime_text import LimeTextExplainer\n",
    "#import shap\n",
    "\n",
    "# Set seed\n",
    "np.random.seed(123)"
   ]
  },
  {
   "cell_type": "code",
   "execution_count": 3,
   "metadata": {},
   "outputs": [
    {
     "data": {
      "text/html": [
       "<div>\n",
       "<style scoped>\n",
       "    .dataframe tbody tr th:only-of-type {\n",
       "        vertical-align: middle;\n",
       "    }\n",
       "\n",
       "    .dataframe tbody tr th {\n",
       "        vertical-align: top;\n",
       "    }\n",
       "\n",
       "    .dataframe thead th {\n",
       "        text-align: right;\n",
       "    }\n",
       "</style>\n",
       "<table border=\"1\" class=\"dataframe\">\n",
       "  <thead>\n",
       "    <tr style=\"text-align: right;\">\n",
       "      <th></th>\n",
       "      <th>id</th>\n",
       "      <th>subreddit</th>\n",
       "      <th>body</th>\n",
       "      <th>created</th>\n",
       "    </tr>\n",
       "  </thead>\n",
       "  <tbody>\n",
       "    <tr>\n",
       "      <th>0</th>\n",
       "      <td>ipwiccq</td>\n",
       "      <td>worldnews</td>\n",
       "      <td>&gt; Iran protests Western stance on mass protest...</td>\n",
       "      <td>1.664147e+09</td>\n",
       "    </tr>\n",
       "    <tr>\n",
       "      <th>1</th>\n",
       "      <td>ipvtdwd</td>\n",
       "      <td>worldnews</td>\n",
       "      <td>Iran for the past 40+ years: \"Fuck the west\"  ...</td>\n",
       "      <td>1.664137e+09</td>\n",
       "    </tr>\n",
       "    <tr>\n",
       "      <th>2</th>\n",
       "      <td>ipvyfc3</td>\n",
       "      <td>worldnews</td>\n",
       "      <td>\" ...  over what it called interference and ho...</td>\n",
       "      <td>1.664139e+09</td>\n",
       "    </tr>\n",
       "    <tr>\n",
       "      <th>3</th>\n",
       "      <td>ipvpcc7</td>\n",
       "      <td>worldnews</td>\n",
       "      <td>We should protest their protest response prote...</td>\n",
       "      <td>1.664135e+09</td>\n",
       "    </tr>\n",
       "    <tr>\n",
       "      <th>4</th>\n",
       "      <td>ipvrv10</td>\n",
       "      <td>worldnews</td>\n",
       "      <td>This is the best tl;dr I could make, [original...</td>\n",
       "      <td>1.664136e+09</td>\n",
       "    </tr>\n",
       "  </tbody>\n",
       "</table>\n",
       "</div>"
      ],
      "text/plain": [
       "        id  subreddit                                               body  \\\n",
       "0  ipwiccq  worldnews  > Iran protests Western stance on mass protest...   \n",
       "1  ipvtdwd  worldnews  Iran for the past 40+ years: \"Fuck the west\"  ...   \n",
       "2  ipvyfc3  worldnews  \" ...  over what it called interference and ho...   \n",
       "3  ipvpcc7  worldnews  We should protest their protest response prote...   \n",
       "4  ipvrv10  worldnews  This is the best tl;dr I could make, [original...   \n",
       "\n",
       "        created  \n",
       "0  1.664147e+09  \n",
       "1  1.664137e+09  \n",
       "2  1.664139e+09  \n",
       "3  1.664135e+09  \n",
       "4  1.664136e+09  "
      ]
     },
     "execution_count": 3,
     "metadata": {},
     "output_type": "execute_result"
    }
   ],
   "source": [
    "# Import dataset\n",
    "import os\n",
    "os.chdir('/Users/daltonanderson/Documents/USF/Fall-2022/ISM6930 Text Analytics/Final Project Text Analysis on Social Platforms/Reddit')\n",
    "\n",
    "df = pd.read_csv (r'iran_protest_corpus.csv')\n",
    "df.head()"
   ]
  },
  {
   "cell_type": "markdown",
   "metadata": {},
   "source": [
    "## Data Cleaning"
   ]
  },
  {
   "cell_type": "code",
   "execution_count": 4,
   "metadata": {},
   "outputs": [
    {
     "name": "stdout",
     "output_type": "stream",
     "text": [
      "8073\n",
      "8073\n"
     ]
    }
   ],
   "source": [
    "# Check for duplicates and drop if any\n",
    "print(len(df))\n",
    "df.drop_duplicates(['id'])\n",
    "print(len(df))"
   ]
  },
  {
   "cell_type": "code",
   "execution_count": 5,
   "metadata": {},
   "outputs": [
    {
     "data": {
      "text/html": [
       "<div>\n",
       "<style scoped>\n",
       "    .dataframe tbody tr th:only-of-type {\n",
       "        vertical-align: middle;\n",
       "    }\n",
       "\n",
       "    .dataframe tbody tr th {\n",
       "        vertical-align: top;\n",
       "    }\n",
       "\n",
       "    .dataframe thead th {\n",
       "        text-align: right;\n",
       "    }\n",
       "</style>\n",
       "<table border=\"1\" class=\"dataframe\">\n",
       "  <thead>\n",
       "    <tr style=\"text-align: right;\">\n",
       "      <th></th>\n",
       "      <th>id</th>\n",
       "      <th>subreddit</th>\n",
       "      <th>body</th>\n",
       "      <th>created</th>\n",
       "      <th>cleaned_text</th>\n",
       "    </tr>\n",
       "  </thead>\n",
       "  <tbody>\n",
       "    <tr>\n",
       "      <th>0</th>\n",
       "      <td>ipwiccq</td>\n",
       "      <td>worldnews</td>\n",
       "      <td>&gt; Iran protests Western stance on mass protest...</td>\n",
       "      <td>1.664147e+09</td>\n",
       "      <td>iran protest western stance mass protest woman...</td>\n",
       "    </tr>\n",
       "    <tr>\n",
       "      <th>1</th>\n",
       "      <td>ipvtdwd</td>\n",
       "      <td>worldnews</td>\n",
       "      <td>Iran for the past 40+ years: \"Fuck the west\"  ...</td>\n",
       "      <td>1.664137e+09</td>\n",
       "      <td>iran past year fuck west west dont like irania...</td>\n",
       "    </tr>\n",
       "    <tr>\n",
       "      <th>2</th>\n",
       "      <td>ipvyfc3</td>\n",
       "      <td>worldnews</td>\n",
       "      <td>\" ...  over what it called interference and ho...</td>\n",
       "      <td>1.664139e+09</td>\n",
       "      <td>called interference hostile medium coverage na...</td>\n",
       "    </tr>\n",
       "    <tr>\n",
       "      <th>3</th>\n",
       "      <td>ipvpcc7</td>\n",
       "      <td>worldnews</td>\n",
       "      <td>We should protest their protest response prote...</td>\n",
       "      <td>1.664135e+09</td>\n",
       "      <td>protest protest response protest response</td>\n",
       "    </tr>\n",
       "    <tr>\n",
       "      <th>4</th>\n",
       "      <td>ipvrv10</td>\n",
       "      <td>worldnews</td>\n",
       "      <td>This is the best tl;dr I could make, [original...</td>\n",
       "      <td>1.664136e+09</td>\n",
       "      <td>best tl dr could make original http www reuter...</td>\n",
       "    </tr>\n",
       "  </tbody>\n",
       "</table>\n",
       "</div>"
      ],
      "text/plain": [
       "        id  subreddit                                               body  \\\n",
       "0  ipwiccq  worldnews  > Iran protests Western stance on mass protest...   \n",
       "1  ipvtdwd  worldnews  Iran for the past 40+ years: \"Fuck the west\"  ...   \n",
       "2  ipvyfc3  worldnews  \" ...  over what it called interference and ho...   \n",
       "3  ipvpcc7  worldnews  We should protest their protest response prote...   \n",
       "4  ipvrv10  worldnews  This is the best tl;dr I could make, [original...   \n",
       "\n",
       "        created                                       cleaned_text  \n",
       "0  1.664147e+09  iran protest western stance mass protest woman...  \n",
       "1  1.664137e+09  iran past year fuck west west dont like irania...  \n",
       "2  1.664139e+09  called interference hostile medium coverage na...  \n",
       "3  1.664135e+09          protest protest response protest response  \n",
       "4  1.664136e+09  best tl dr could make original http www reuter...  "
      ]
     },
     "execution_count": 5,
     "metadata": {},
     "output_type": "execute_result"
    }
   ],
   "source": [
    "# Loop through the column and clean the data\n",
    "\n",
    "new_text = []\n",
    "\n",
    "for text in df['body']:\n",
    "    text = re.sub(r'[!\"#$%&()*+,-./:;<=>?[\\]^_`{|}~]', ' ', text).lower()               # Remove punctuation and make the letters lowercase\n",
    "        \n",
    "    words = nltk.tokenize.word_tokenize(text)                                           # Tokenize the text\n",
    "    words = [w for w in words if w.isalpha()]                                           # Ensure the data is alphabets (remove numbers)\n",
    "    words = [w for w in words if len(w)>1 and w not in stopwords.words('english')]      # Remove words that are less than 2 characters and stop words as well\n",
    "        \n",
    "    words = [lemmatizer.lemmatize(w) for w in words]                                    # Lemmatize the words\n",
    "    new_text.append(' '.join(words))\n",
    "\n",
    "# Make a copy of the original dataframe and add the cleaned text into a new column\n",
    "df['cleaned_text'] = new_text\n",
    "df.head()"
   ]
  },
  {
   "cell_type": "markdown",
   "metadata": {},
   "source": [
    "## EDA"
   ]
  },
  {
   "cell_type": "code",
   "execution_count": 7,
   "metadata": {},
   "outputs": [
    {
     "data": {
      "text/plain": [
       "<AxesSubplot:title={'center':'Subreddits'}>"
      ]
     },
     "execution_count": 7,
     "metadata": {},
     "output_type": "execute_result"
    },
    {
     "data": {
      "image/png": "[encoded data removed]",
      "text/plain": [
       "<Figure size 720x360 with 1 Axes>"
      ]
     },
     "metadata": {
      "needs_background": "light"
     },
     "output_type": "display_data"
    }
   ],
   "source": [
    "# Plot number of sources\n",
    "df['subreddit'].value_counts().nlargest(5).plot(kind='bar', figsize=(10,5), title=\"Subreddits\")"
   ]
  },
  {
   "cell_type": "markdown",
   "metadata": {},
   "source": [
    "## Sentiment Analysis"
   ]
  },
  {
   "cell_type": "code",
   "execution_count": 8,
   "metadata": {},
   "outputs": [],
   "source": [
    "# Creating a copy of the dataframe\n",
    "df_sentiment = df.copy()"
   ]
  },
  {
   "cell_type": "code",
   "execution_count": 9,
   "metadata": {},
   "outputs": [
    {
     "data": {
      "text/html": [
       "<div>\n",
       "<style scoped>\n",
       "    .dataframe tbody tr th:only-of-type {\n",
       "        vertical-align: middle;\n",
       "    }\n",
       "\n",
       "    .dataframe tbody tr th {\n",
       "        vertical-align: top;\n",
       "    }\n",
       "\n",
       "    .dataframe thead th {\n",
       "        text-align: right;\n",
       "    }\n",
       "</style>\n",
       "<table border=\"1\" class=\"dataframe\">\n",
       "  <thead>\n",
       "    <tr style=\"text-align: right;\">\n",
       "      <th></th>\n",
       "      <th>id</th>\n",
       "      <th>subreddit</th>\n",
       "      <th>body</th>\n",
       "      <th>created</th>\n",
       "      <th>cleaned_text</th>\n",
       "      <th>compound</th>\n",
       "      <th>positive</th>\n",
       "      <th>negative</th>\n",
       "    </tr>\n",
       "  </thead>\n",
       "  <tbody>\n",
       "    <tr>\n",
       "      <th>0</th>\n",
       "      <td>ipwiccq</td>\n",
       "      <td>worldnews</td>\n",
       "      <td>&gt; Iran protests Western stance on mass protest...</td>\n",
       "      <td>1.664147e+09</td>\n",
       "      <td>iran protest western stance mass protest woman...</td>\n",
       "      <td>-0.8074</td>\n",
       "      <td>0.083</td>\n",
       "      <td>0.348</td>\n",
       "    </tr>\n",
       "    <tr>\n",
       "      <th>1</th>\n",
       "      <td>ipvtdwd</td>\n",
       "      <td>worldnews</td>\n",
       "      <td>Iran for the past 40+ years: \"Fuck the west\"  ...</td>\n",
       "      <td>1.664137e+09</td>\n",
       "      <td>iran past year fuck west west dont like irania...</td>\n",
       "      <td>-0.7097</td>\n",
       "      <td>0.000</td>\n",
       "      <td>0.258</td>\n",
       "    </tr>\n",
       "    <tr>\n",
       "      <th>2</th>\n",
       "      <td>ipvyfc3</td>\n",
       "      <td>worldnews</td>\n",
       "      <td>\" ...  over what it called interference and ho...</td>\n",
       "      <td>1.664139e+09</td>\n",
       "      <td>called interference hostile medium coverage na...</td>\n",
       "      <td>-0.9753</td>\n",
       "      <td>0.060</td>\n",
       "      <td>0.350</td>\n",
       "    </tr>\n",
       "    <tr>\n",
       "      <th>3</th>\n",
       "      <td>ipvpcc7</td>\n",
       "      <td>worldnews</td>\n",
       "      <td>We should protest their protest response prote...</td>\n",
       "      <td>1.664135e+09</td>\n",
       "      <td>protest protest response protest response</td>\n",
       "      <td>-0.5994</td>\n",
       "      <td>0.000</td>\n",
       "      <td>0.496</td>\n",
       "    </tr>\n",
       "    <tr>\n",
       "      <th>4</th>\n",
       "      <td>ipvrv10</td>\n",
       "      <td>worldnews</td>\n",
       "      <td>This is the best tl;dr I could make, [original...</td>\n",
       "      <td>1.664136e+09</td>\n",
       "      <td>best tl dr could make original http www reuter...</td>\n",
       "      <td>-0.9666</td>\n",
       "      <td>0.047</td>\n",
       "      <td>0.204</td>\n",
       "    </tr>\n",
       "  </tbody>\n",
       "</table>\n",
       "</div>"
      ],
      "text/plain": [
       "        id  subreddit                                               body  \\\n",
       "0  ipwiccq  worldnews  > Iran protests Western stance on mass protest...   \n",
       "1  ipvtdwd  worldnews  Iran for the past 40+ years: \"Fuck the west\"  ...   \n",
       "2  ipvyfc3  worldnews  \" ...  over what it called interference and ho...   \n",
       "3  ipvpcc7  worldnews  We should protest their protest response prote...   \n",
       "4  ipvrv10  worldnews  This is the best tl;dr I could make, [original...   \n",
       "\n",
       "        created                                       cleaned_text  compound  \\\n",
       "0  1.664147e+09  iran protest western stance mass protest woman...   -0.8074   \n",
       "1  1.664137e+09  iran past year fuck west west dont like irania...   -0.7097   \n",
       "2  1.664139e+09  called interference hostile medium coverage na...   -0.9753   \n",
       "3  1.664135e+09          protest protest response protest response   -0.5994   \n",
       "4  1.664136e+09  best tl dr could make original http www reuter...   -0.9666   \n",
       "\n",
       "   positive  negative  \n",
       "0     0.083     0.348  \n",
       "1     0.000     0.258  \n",
       "2     0.060     0.350  \n",
       "3     0.000     0.496  \n",
       "4     0.047     0.204  "
      ]
     },
     "execution_count": 9,
     "metadata": {},
     "output_type": "execute_result"
    }
   ],
   "source": [
    "df_sentiment['compound'] = df_sentiment['body'].apply(lambda x:SentimentIntensityAnalyzer().polarity_scores(x)['compound'])\n",
    "df_sentiment['positive'] = df_sentiment['body'].apply(lambda x:SentimentIntensityAnalyzer().polarity_scores(x)['pos'])\n",
    "df_sentiment['negative'] = df_sentiment['body'].apply(lambda x:SentimentIntensityAnalyzer().polarity_scores(x)['neg'])\n",
    "df_sentiment.head()"
   ]
  },
  {
   "cell_type": "code",
   "execution_count": 11,
   "metadata": {},
   "outputs": [
    {
     "name": "stdout",
     "output_type": "stream",
     "text": [
      "Compound: -0.025824080267558534\n",
      "Positive: 0.11820128824476642\n",
      "Negative: 0.1116451133407656\n"
     ]
    }
   ],
   "source": [
    "print('Compound:', df_sentiment['compound'].mean())\n",
    "print('Positive:', df_sentiment['positive'].mean())\n",
    "print('Negative:', df_sentiment['negative'].mean())"
   ]
  },
  {
   "cell_type": "code",
   "execution_count": 12,
   "metadata": {},
   "outputs": [
    {
     "data": {
      "text/plain": [
       "Text(0.5, 1.0, 'Polarity Score Distribution')"
      ]
     },
     "execution_count": 12,
     "metadata": {},
     "output_type": "execute_result"
    },
    {
     "data": {
      "image/png": "[encoded data removed]",
      "text/plain": [
       "<Figure size 720x360 with 1 Axes>"
      ]
     },
     "metadata": {
      "needs_background": "light"
     },
     "output_type": "display_data"
    }
   ],
   "source": [
    "plt.figure(figsize=(10,5))\n",
    "plt.hist(df_sentiment['compound'], bins = 50, color = '#006B66')\n",
    "# plt.ylim(0,200)\n",
    "plt.title('Polarity Score Distribution')"
   ]
  },
  {
   "cell_type": "code",
   "execution_count": 13,
   "metadata": {},
   "outputs": [],
   "source": [
    "# Trying Spacy\n",
    "# lets create a new column with the sentiment of the comment\n",
    "\n",
    "df_sentiment['sentiment'] = df_sentiment['body'].apply(lambda x: nlp(x)._.blob.polarity)"
   ]
  },
  {
   "cell_type": "code",
   "execution_count": 14,
   "metadata": {},
   "outputs": [
    {
     "name": "stdout",
     "output_type": "stream",
     "text": [
      "Text Blob Polartiy Score: 0.055881402874080346\n"
     ]
    }
   ],
   "source": [
    "print('Text Blob Polartiy Score:', df_sentiment['sentiment'].mean())"
   ]
  },
  {
   "cell_type": "code",
   "execution_count": 16,
   "metadata": {},
   "outputs": [
    {
     "data": {
      "text/plain": [
       "Text(0.5, 1.0, 'Polarity Score Distribution')"
      ]
     },
     "execution_count": 16,
     "metadata": {},
     "output_type": "execute_result"
    },
    {
     "data": {
      "image/png": "[encoded data removed]",
      "text/plain": [
       "<Figure size 720x360 with 1 Axes>"
      ]
     },
     "metadata": {
      "needs_background": "light"
     },
     "output_type": "display_data"
    }
   ],
   "source": [
    "plt.figure(figsize=(10,5))\n",
    "plt.hist(df_sentiment['sentiment'], bins = 50, color = '#006B66')\n",
    "# plt.ylim(0,200)\n",
    "plt.title('Polarity Score Distribution')"
   ]
  },
  {
   "cell_type": "code",
   "execution_count": 19,
   "metadata": {},
   "outputs": [
    {
     "data": {
      "text/plain": [
       "(                Term                       Location  \\\n",
       " 0    abbie abe abie                  north america    \n",
       " 1               abc                      east asia    \n",
       " 2              abcd         south asians in the us    \n",
       " 3  abidabeed plural   middle east and north africa    \n",
       " 4           aboabbo                      australia    \n",
       " \n",
       "                                               Target  \\\n",
       " 0                                        jewish men    \n",
       " 1  americanborn chinese han or other chinese incl...   \n",
       " 2  americanborn confused desi indian americans or...   \n",
       " 3                              black african people    \n",
       " 4                      australian aboriginal person    \n",
       " \n",
       "                                              Meaning  \n",
       " 0  originated before the 1950s from the proper na...  \n",
       " 1  the term implies an otherness or lack of conne...  \n",
       " 2  used chiefly by south asian immigrants to impl...  \n",
       " 3  arabic for slave associated with the arab slav...  \n",
       " 4  originally this was simply an informal term fo...  ,\n",
       "                slurs\n",
       " 0        able-bodied\n",
       " 1          abdnormal\n",
       " 2             addict\n",
       " 3          afflicted\n",
       " 4  attention-seeking)"
      ]
     },
     "execution_count": 19,
     "metadata": {},
     "output_type": "execute_result"
    }
   ],
   "source": [
    "import pandas as pd\n",
    "import numpy as np\n",
    "df_hate = pd.read_csv(r'ethnic_slurs.csv')\n",
    "disability_slurs = pd.read_csv(r'disability_words.csv')\n",
    "\n",
    "df_hate.head(), disability_slurs.head()"
   ]
  },
  {
   "cell_type": "code",
   "execution_count": 20,
   "metadata": {},
   "outputs": [],
   "source": [
    "def clean_text(text):\n",
    "    # make everything lowercase\n",
    "    text = text.lower()\n",
    "    # only lowercase letters no numbers or special characters\n",
    "    text = re.sub(r'[^a-z]', ' ', text)\n",
    "    \n",
    "    # only accept nouns, pronouns and entities\n",
    "    doc = nlp(text)\n",
    "    text = [token.text for token in doc if token.pos_ in ['NOUN', 'PROPN', 'PRON', 'ADJ'] and len(token.text) > 3]\n",
    "    return text"
   ]
  },
  {
   "cell_type": "code",
   "execution_count": 21,
   "metadata": {},
   "outputs": [
    {
     "data": {
      "text/html": [
       "<div>\n",
       "<style scoped>\n",
       "    .dataframe tbody tr th:only-of-type {\n",
       "        vertical-align: middle;\n",
       "    }\n",
       "\n",
       "    .dataframe tbody tr th {\n",
       "        vertical-align: top;\n",
       "    }\n",
       "\n",
       "    .dataframe thead th {\n",
       "        text-align: right;\n",
       "    }\n",
       "</style>\n",
       "<table border=\"1\" class=\"dataframe\">\n",
       "  <thead>\n",
       "    <tr style=\"text-align: right;\">\n",
       "      <th></th>\n",
       "      <th>id</th>\n",
       "      <th>subreddit</th>\n",
       "      <th>body</th>\n",
       "      <th>created</th>\n",
       "      <th>cleaned_text</th>\n",
       "      <th>title</th>\n",
       "    </tr>\n",
       "  </thead>\n",
       "  <tbody>\n",
       "    <tr>\n",
       "      <th>0</th>\n",
       "      <td>ipwiccq</td>\n",
       "      <td>worldnews</td>\n",
       "      <td>&gt; Iran protests Western stance on mass protest...</td>\n",
       "      <td>1.664147e+09</td>\n",
       "      <td>iran protest western stance mass protest woman...</td>\n",
       "      <td>[iran, western, stance, mass, protests, woman,...</td>\n",
       "    </tr>\n",
       "    <tr>\n",
       "      <th>1</th>\n",
       "      <td>ipvtdwd</td>\n",
       "      <td>worldnews</td>\n",
       "      <td>Iran for the past 40+ years: \"Fuck the west\"  ...</td>\n",
       "      <td>1.664137e+09</td>\n",
       "      <td>iran past year fuck west west dont like irania...</td>\n",
       "      <td>[iran, past, years, west, west, iranian, gover...</td>\n",
       "    </tr>\n",
       "    <tr>\n",
       "      <th>2</th>\n",
       "      <td>ipvyfc3</td>\n",
       "      <td>worldnews</td>\n",
       "      <td>\" ...  over what it called interference and ho...</td>\n",
       "      <td>1.664139e+09</td>\n",
       "      <td>called interference hostile medium coverage na...</td>\n",
       "      <td>[what, interference, hostile, media, coverage,...</td>\n",
       "    </tr>\n",
       "    <tr>\n",
       "      <th>3</th>\n",
       "      <td>ipvpcc7</td>\n",
       "      <td>worldnews</td>\n",
       "      <td>We should protest their protest response prote...</td>\n",
       "      <td>1.664135e+09</td>\n",
       "      <td>protest protest response protest response</td>\n",
       "      <td>[their, protest, response, protests, response]</td>\n",
       "    </tr>\n",
       "    <tr>\n",
       "      <th>4</th>\n",
       "      <td>ipvrv10</td>\n",
       "      <td>worldnews</td>\n",
       "      <td>This is the best tl;dr I could make, [original...</td>\n",
       "      <td>1.664136e+09</td>\n",
       "      <td>best tl dr could make original http www reuter...</td>\n",
       "      <td>[this, best, original, https, reuters, world, ...</td>\n",
       "    </tr>\n",
       "  </tbody>\n",
       "</table>\n",
       "</div>"
      ],
      "text/plain": [
       "        id  subreddit                                               body  \\\n",
       "0  ipwiccq  worldnews  > Iran protests Western stance on mass protest...   \n",
       "1  ipvtdwd  worldnews  Iran for the past 40+ years: \"Fuck the west\"  ...   \n",
       "2  ipvyfc3  worldnews  \" ...  over what it called interference and ho...   \n",
       "3  ipvpcc7  worldnews  We should protest their protest response prote...   \n",
       "4  ipvrv10  worldnews  This is the best tl;dr I could make, [original...   \n",
       "\n",
       "        created                                       cleaned_text  \\\n",
       "0  1.664147e+09  iran protest western stance mass protest woman...   \n",
       "1  1.664137e+09  iran past year fuck west west dont like irania...   \n",
       "2  1.664139e+09  called interference hostile medium coverage na...   \n",
       "3  1.664135e+09          protest protest response protest response   \n",
       "4  1.664136e+09  best tl dr could make original http www reuter...   \n",
       "\n",
       "                                               title  \n",
       "0  [iran, western, stance, mass, protests, woman,...  \n",
       "1  [iran, past, years, west, west, iranian, gover...  \n",
       "2  [what, interference, hostile, media, coverage,...  \n",
       "3     [their, protest, response, protests, response]  \n",
       "4  [this, best, original, https, reuters, world, ...  "
      ]
     },
     "execution_count": 21,
     "metadata": {},
     "output_type": "execute_result"
    }
   ],
   "source": [
    "df['title'] = df['body'].apply(clean_text)\n",
    "df.head()"
   ]
  },
  {
   "cell_type": "code",
   "execution_count": 22,
   "metadata": {},
   "outputs": [
    {
     "data": {
      "text/html": [
       "<div>\n",
       "<style scoped>\n",
       "    .dataframe tbody tr th:only-of-type {\n",
       "        vertical-align: middle;\n",
       "    }\n",
       "\n",
       "    .dataframe tbody tr th {\n",
       "        vertical-align: top;\n",
       "    }\n",
       "\n",
       "    .dataframe thead th {\n",
       "        text-align: right;\n",
       "    }\n",
       "</style>\n",
       "<table border=\"1\" class=\"dataframe\">\n",
       "  <thead>\n",
       "    <tr style=\"text-align: right;\">\n",
       "      <th></th>\n",
       "      <th>id</th>\n",
       "      <th>subreddit</th>\n",
       "      <th>body</th>\n",
       "      <th>created</th>\n",
       "      <th>cleaned_text</th>\n",
       "      <th>title</th>\n",
       "      <th>length</th>\n",
       "    </tr>\n",
       "  </thead>\n",
       "  <tbody>\n",
       "    <tr>\n",
       "      <th>0</th>\n",
       "      <td>ipwiccq</td>\n",
       "      <td>worldnews</td>\n",
       "      <td>&gt; Iran protests Western stance on mass protest...</td>\n",
       "      <td>1.664147e+09</td>\n",
       "      <td>iran protest western stance mass protest woman...</td>\n",
       "      <td>[iran, western, stance, mass, protests, woman,...</td>\n",
       "      <td>12</td>\n",
       "    </tr>\n",
       "    <tr>\n",
       "      <th>1</th>\n",
       "      <td>ipvtdwd</td>\n",
       "      <td>worldnews</td>\n",
       "      <td>Iran for the past 40+ years: \"Fuck the west\"  ...</td>\n",
       "      <td>1.664137e+09</td>\n",
       "      <td>iran past year fuck west west dont like irania...</td>\n",
       "      <td>[iran, past, years, west, west, iranian, gover...</td>\n",
       "      <td>8</td>\n",
       "    </tr>\n",
       "    <tr>\n",
       "      <th>2</th>\n",
       "      <td>ipvyfc3</td>\n",
       "      <td>worldnews</td>\n",
       "      <td>\" ...  over what it called interference and ho...</td>\n",
       "      <td>1.664139e+09</td>\n",
       "      <td>called interference hostile medium coverage na...</td>\n",
       "      <td>[what, interference, hostile, media, coverage,...</td>\n",
       "      <td>28</td>\n",
       "    </tr>\n",
       "    <tr>\n",
       "      <th>3</th>\n",
       "      <td>ipvpcc7</td>\n",
       "      <td>worldnews</td>\n",
       "      <td>We should protest their protest response prote...</td>\n",
       "      <td>1.664135e+09</td>\n",
       "      <td>protest protest response protest response</td>\n",
       "      <td>[their, protest, response, protests, response]</td>\n",
       "      <td>5</td>\n",
       "    </tr>\n",
       "    <tr>\n",
       "      <th>4</th>\n",
       "      <td>ipvrv10</td>\n",
       "      <td>worldnews</td>\n",
       "      <td>This is the best tl;dr I could make, [original...</td>\n",
       "      <td>1.664136e+09</td>\n",
       "      <td>best tl dr could make original http www reuter...</td>\n",
       "      <td>[this, best, original, https, reuters, world, ...</td>\n",
       "      <td>84</td>\n",
       "    </tr>\n",
       "  </tbody>\n",
       "</table>\n",
       "</div>"
      ],
      "text/plain": [
       "        id  subreddit                                               body  \\\n",
       "0  ipwiccq  worldnews  > Iran protests Western stance on mass protest...   \n",
       "1  ipvtdwd  worldnews  Iran for the past 40+ years: \"Fuck the west\"  ...   \n",
       "2  ipvyfc3  worldnews  \" ...  over what it called interference and ho...   \n",
       "3  ipvpcc7  worldnews  We should protest their protest response prote...   \n",
       "4  ipvrv10  worldnews  This is the best tl;dr I could make, [original...   \n",
       "\n",
       "        created                                       cleaned_text  \\\n",
       "0  1.664147e+09  iran protest western stance mass protest woman...   \n",
       "1  1.664137e+09  iran past year fuck west west dont like irania...   \n",
       "2  1.664139e+09  called interference hostile medium coverage na...   \n",
       "3  1.664135e+09          protest protest response protest response   \n",
       "4  1.664136e+09  best tl dr could make original http www reuter...   \n",
       "\n",
       "                                               title  length  \n",
       "0  [iran, western, stance, mass, protests, woman,...      12  \n",
       "1  [iran, past, years, west, west, iranian, gover...       8  \n",
       "2  [what, interference, hostile, media, coverage,...      28  \n",
       "3     [their, protest, response, protests, response]       5  \n",
       "4  [this, best, original, https, reuters, world, ...      84  "
      ]
     },
     "execution_count": 22,
     "metadata": {},
     "output_type": "execute_result"
    }
   ],
   "source": [
    "# lets create a new column with the length of the comment\n",
    "df['length'] = df['title'].apply(lambda x: len(x))\n",
    "df.head()"
   ]
  },
  {
   "cell_type": "code",
   "execution_count": 23,
   "metadata": {},
   "outputs": [
    {
     "data": {
      "text/plain": [
       "669788"
      ]
     },
     "execution_count": 23,
     "metadata": {},
     "output_type": "execute_result"
    }
   ],
   "source": [
    "all_comments = ' '.join(df['title'].apply(lambda x: ' '.join(x)))\n",
    "len(all_comments)"
   ]
  },
  {
   "cell_type": "code",
   "execution_count": 24,
   "metadata": {},
   "outputs": [],
   "source": [
    "# check how many unique words are in the comments\n",
    "total_unique = len(set(all_comments.split()))\n",
    "\n",
    "# average unique words per comment\n",
    "unique_words_by_comment = len(set(all_comments.split())) / len(all_comments.split())"
   ]
  },
  {
   "cell_type": "code",
   "execution_count": 25,
   "metadata": {},
   "outputs": [
    {
     "data": {
      "text/plain": [
       "92612"
      ]
     },
     "execution_count": 25,
     "metadata": {},
     "output_type": "execute_result"
    }
   ],
   "source": [
    "# check how many total words are in the comments\n",
    "total_words = len(all_comments.split())\n",
    "total_words"
   ]
  },
  {
   "cell_type": "code",
   "execution_count": 26,
   "metadata": {},
   "outputs": [
    {
     "data": {
      "text/plain": [
       "11.471819645732689"
      ]
     },
     "execution_count": 26,
     "metadata": {},
     "output_type": "execute_result"
    }
   ],
   "source": [
    "# check how many average words are in the comments\n",
    "average_words_by_comment = len(all_comments.split()) / len(df)\n",
    "average_words_by_comment"
   ]
  },
  {
   "cell_type": "code",
   "execution_count": 27,
   "metadata": {},
   "outputs": [],
   "source": [
    "# r strip Location column\n",
    "df_hate['Location'] = df_hate['Location'].apply(lambda x: x.rstrip())"
   ]
  },
  {
   "cell_type": "code",
   "execution_count": 28,
   "metadata": {},
   "outputs": [],
   "source": [
    "# make a set of all unique words in Term \n",
    "hate_terms = set()\n",
    "for term in df_hate['Term']:\n",
    "    for word in term.split():\n",
    "        if len(word) < 4:\n",
    "            continue\n",
    "        hate_terms.add(word)"
   ]
  },
  {
   "cell_type": "code",
   "execution_count": 29,
   "metadata": {},
   "outputs": [
    {
     "data": {
      "text/html": [
       "<div>\n",
       "<style scoped>\n",
       "    .dataframe tbody tr th:only-of-type {\n",
       "        vertical-align: middle;\n",
       "    }\n",
       "\n",
       "    .dataframe tbody tr th {\n",
       "        vertical-align: top;\n",
       "    }\n",
       "\n",
       "    .dataframe thead th {\n",
       "        text-align: right;\n",
       "    }\n",
       "</style>\n",
       "<table border=\"1\" class=\"dataframe\">\n",
       "  <thead>\n",
       "    <tr style=\"text-align: right;\">\n",
       "      <th></th>\n",
       "      <th>id</th>\n",
       "      <th>subreddit</th>\n",
       "      <th>body</th>\n",
       "      <th>created</th>\n",
       "      <th>cleaned_text</th>\n",
       "      <th>title</th>\n",
       "      <th>length</th>\n",
       "      <th>hate_score</th>\n",
       "    </tr>\n",
       "  </thead>\n",
       "  <tbody>\n",
       "    <tr>\n",
       "      <th>0</th>\n",
       "      <td>ipwiccq</td>\n",
       "      <td>worldnews</td>\n",
       "      <td>&gt; Iran protests Western stance on mass protest...</td>\n",
       "      <td>1.664147e+09</td>\n",
       "      <td>iran protest western stance mass protest woman...</td>\n",
       "      <td>[iran, western, stance, mass, protests, woman,...</td>\n",
       "      <td>12</td>\n",
       "      <td>2</td>\n",
       "    </tr>\n",
       "    <tr>\n",
       "      <th>1</th>\n",
       "      <td>ipvtdwd</td>\n",
       "      <td>worldnews</td>\n",
       "      <td>Iran for the past 40+ years: \"Fuck the west\"  ...</td>\n",
       "      <td>1.664137e+09</td>\n",
       "      <td>iran past year fuck west west dont like irania...</td>\n",
       "      <td>[iran, past, years, west, west, iranian, gover...</td>\n",
       "      <td>8</td>\n",
       "      <td>3</td>\n",
       "    </tr>\n",
       "    <tr>\n",
       "      <th>2</th>\n",
       "      <td>ipvyfc3</td>\n",
       "      <td>worldnews</td>\n",
       "      <td>\" ...  over what it called interference and ho...</td>\n",
       "      <td>1.664139e+09</td>\n",
       "      <td>called interference hostile medium coverage na...</td>\n",
       "      <td>[what, interference, hostile, media, coverage,...</td>\n",
       "      <td>28</td>\n",
       "      <td>2</td>\n",
       "    </tr>\n",
       "    <tr>\n",
       "      <th>3</th>\n",
       "      <td>ipvpcc7</td>\n",
       "      <td>worldnews</td>\n",
       "      <td>We should protest their protest response prote...</td>\n",
       "      <td>1.664135e+09</td>\n",
       "      <td>protest protest response protest response</td>\n",
       "      <td>[their, protest, response, protests, response]</td>\n",
       "      <td>5</td>\n",
       "      <td>0</td>\n",
       "    </tr>\n",
       "    <tr>\n",
       "      <th>4</th>\n",
       "      <td>ipvrv10</td>\n",
       "      <td>worldnews</td>\n",
       "      <td>This is the best tl;dr I could make, [original...</td>\n",
       "      <td>1.664136e+09</td>\n",
       "      <td>best tl dr could make original http www reuter...</td>\n",
       "      <td>[this, best, original, https, reuters, world, ...</td>\n",
       "      <td>84</td>\n",
       "      <td>1</td>\n",
       "    </tr>\n",
       "  </tbody>\n",
       "</table>\n",
       "</div>"
      ],
      "text/plain": [
       "        id  subreddit                                               body  \\\n",
       "0  ipwiccq  worldnews  > Iran protests Western stance on mass protest...   \n",
       "1  ipvtdwd  worldnews  Iran for the past 40+ years: \"Fuck the west\"  ...   \n",
       "2  ipvyfc3  worldnews  \" ...  over what it called interference and ho...   \n",
       "3  ipvpcc7  worldnews  We should protest their protest response prote...   \n",
       "4  ipvrv10  worldnews  This is the best tl;dr I could make, [original...   \n",
       "\n",
       "        created                                       cleaned_text  \\\n",
       "0  1.664147e+09  iran protest western stance mass protest woman...   \n",
       "1  1.664137e+09  iran past year fuck west west dont like irania...   \n",
       "2  1.664139e+09  called interference hostile medium coverage na...   \n",
       "3  1.664135e+09          protest protest response protest response   \n",
       "4  1.664136e+09  best tl dr could make original http www reuter...   \n",
       "\n",
       "                                               title  length  hate_score  \n",
       "0  [iran, western, stance, mass, protests, woman,...      12           2  \n",
       "1  [iran, past, years, west, west, iranian, gover...       8           3  \n",
       "2  [what, interference, hostile, media, coverage,...      28           2  \n",
       "3     [their, protest, response, protests, response]       5           0  \n",
       "4  [this, best, original, https, reuters, world, ...      84           1  "
      ]
     },
     "execution_count": 29,
     "metadata": {},
     "output_type": "execute_result"
    }
   ],
   "source": [
    "# check if the comments contain any of the hate words\n",
    "hate_score = []\n",
    "for comment in df['title']:\n",
    "    hate_count = 0\n",
    "    for content in comment:\n",
    "        for word in hate_terms:\n",
    "            if word in content:\n",
    "                hate_count += 1\n",
    "\n",
    "    hate_score.append(hate_count)\n",
    "\n",
    "# add the hate score to the dataframe\n",
    "df['hate_score'] = hate_score\n",
    "df.head()"
   ]
  },
  {
   "cell_type": "code",
   "execution_count": 17,
   "metadata": {},
   "outputs": [
    {
     "data": {
      "text/html": [
       "<div>\n",
       "<style scoped>\n",
       "    .dataframe tbody tr th:only-of-type {\n",
       "        vertical-align: middle;\n",
       "    }\n",
       "\n",
       "    .dataframe tbody tr th {\n",
       "        vertical-align: top;\n",
       "    }\n",
       "\n",
       "    .dataframe thead th {\n",
       "        text-align: right;\n",
       "    }\n",
       "</style>\n",
       "<table border=\"1\" class=\"dataframe\">\n",
       "  <thead>\n",
       "    <tr style=\"text-align: right;\">\n",
       "      <th></th>\n",
       "      <th>id</th>\n",
       "      <th>subreddit</th>\n",
       "      <th>body</th>\n",
       "      <th>created</th>\n",
       "      <th>title</th>\n",
       "      <th>length</th>\n",
       "      <th>hate_score</th>\n",
       "    </tr>\n",
       "  </thead>\n",
       "  <tbody>\n",
       "    <tr>\n",
       "      <th>3403</th>\n",
       "      <td>iro2ad2</td>\n",
       "      <td>worldnews</td>\n",
       "      <td>Your meme and argument style is very reduction...</td>\n",
       "      <td>1.665342e+09</td>\n",
       "      <td>[your, meme, argument, style, reductionist, ex...</td>\n",
       "      <td>408</td>\n",
       "      <td>16</td>\n",
       "    </tr>\n",
       "    <tr>\n",
       "      <th>6774</th>\n",
       "      <td>irnrzvl</td>\n",
       "      <td>AMA</td>\n",
       "      <td>What happens if the average Iranian does not c...</td>\n",
       "      <td>1.665338e+09</td>\n",
       "      <td>[what, average, iranian, death, america, ameri...</td>\n",
       "      <td>84</td>\n",
       "      <td>13</td>\n",
       "    </tr>\n",
       "    <tr>\n",
       "      <th>7608</th>\n",
       "      <td>iqhgfq9</td>\n",
       "      <td>worldnews</td>\n",
       "      <td>It’s was likley democracy they had in 50s that...</td>\n",
       "      <td>1.664536e+09</td>\n",
       "      <td>[likley, democracy, they, that, free, they, th...</td>\n",
       "      <td>190</td>\n",
       "      <td>13</td>\n",
       "    </tr>\n",
       "    <tr>\n",
       "      <th>410</th>\n",
       "      <td>ipxgafn</td>\n",
       "      <td>worldnews</td>\n",
       "      <td>&gt; \"Open and free\" is... a bit of an overstatem...</td>\n",
       "      <td>1.664163e+09</td>\n",
       "      <td>[open, free, overstatement, reddit, brainwashi...</td>\n",
       "      <td>91</td>\n",
       "      <td>11</td>\n",
       "    </tr>\n",
       "    <tr>\n",
       "      <th>1919</th>\n",
       "      <td>iph6ewi</td>\n",
       "      <td>pics</td>\n",
       "      <td>&gt;Which countries are those I'm curious?\\n\\nIra...</td>\n",
       "      <td>1.663859e+09</td>\n",
       "      <td>[countries, those, curious, iraq, south, kurdi...</td>\n",
       "      <td>133</td>\n",
       "      <td>11</td>\n",
       "    </tr>\n",
       "  </tbody>\n",
       "</table>\n",
       "</div>"
      ],
      "text/plain": [
       "           id  subreddit                                               body  \\\n",
       "3403  iro2ad2  worldnews  Your meme and argument style is very reduction...   \n",
       "6774  irnrzvl        AMA  What happens if the average Iranian does not c...   \n",
       "7608  iqhgfq9  worldnews  It’s was likley democracy they had in 50s that...   \n",
       "410   ipxgafn  worldnews  > \"Open and free\" is... a bit of an overstatem...   \n",
       "1919  iph6ewi       pics  >Which countries are those I'm curious?\\n\\nIra...   \n",
       "\n",
       "           created                                              title  length  \\\n",
       "3403  1.665342e+09  [your, meme, argument, style, reductionist, ex...     408   \n",
       "6774  1.665338e+09  [what, average, iranian, death, america, ameri...      84   \n",
       "7608  1.664536e+09  [likley, democracy, they, that, free, they, th...     190   \n",
       "410   1.664163e+09  [open, free, overstatement, reddit, brainwashi...      91   \n",
       "1919  1.663859e+09  [countries, those, curious, iraq, south, kurdi...     133   \n",
       "\n",
       "      hate_score  \n",
       "3403          16  \n",
       "6774          13  \n",
       "7608          13  \n",
       "410           11  \n",
       "1919          11  "
      ]
     },
     "execution_count": 17,
     "metadata": {},
     "output_type": "execute_result"
    }
   ],
   "source": [
    "# get the top 5 rows with the highest hate score\n",
    "df.sort_values(by='hate_score', ascending=False).head(5)"
   ]
  },
  {
   "cell_type": "code",
   "execution_count": 18,
   "metadata": {},
   "outputs": [
    {
     "data": {
      "text/html": [
       "<div>\n",
       "<style scoped>\n",
       "    .dataframe tbody tr th:only-of-type {\n",
       "        vertical-align: middle;\n",
       "    }\n",
       "\n",
       "    .dataframe tbody tr th {\n",
       "        vertical-align: top;\n",
       "    }\n",
       "\n",
       "    .dataframe thead th {\n",
       "        text-align: right;\n",
       "    }\n",
       "</style>\n",
       "<table border=\"1\" class=\"dataframe\">\n",
       "  <thead>\n",
       "    <tr style=\"text-align: right;\">\n",
       "      <th></th>\n",
       "      <th>id</th>\n",
       "      <th>subreddit</th>\n",
       "      <th>body</th>\n",
       "      <th>created</th>\n",
       "      <th>title</th>\n",
       "      <th>length</th>\n",
       "      <th>hate_score</th>\n",
       "      <th>hate_score_percentage</th>\n",
       "    </tr>\n",
       "  </thead>\n",
       "  <tbody>\n",
       "    <tr>\n",
       "      <th>0</th>\n",
       "      <td>ipwiccq</td>\n",
       "      <td>worldnews</td>\n",
       "      <td>&gt; Iran protests Western stance on mass protest...</td>\n",
       "      <td>1.664147e+09</td>\n",
       "      <td>[iran, western, stance, mass, protests, woman,...</td>\n",
       "      <td>12</td>\n",
       "      <td>2</td>\n",
       "      <td>16.666667</td>\n",
       "    </tr>\n",
       "    <tr>\n",
       "      <th>1</th>\n",
       "      <td>ipvtdwd</td>\n",
       "      <td>worldnews</td>\n",
       "      <td>Iran for the past 40+ years: \"Fuck the west\"  ...</td>\n",
       "      <td>1.664137e+09</td>\n",
       "      <td>[iran, past, years, west, west, iranian, gover...</td>\n",
       "      <td>8</td>\n",
       "      <td>3</td>\n",
       "      <td>37.500000</td>\n",
       "    </tr>\n",
       "    <tr>\n",
       "      <th>2</th>\n",
       "      <td>ipvyfc3</td>\n",
       "      <td>worldnews</td>\n",
       "      <td>\" ...  over what it called interference and ho...</td>\n",
       "      <td>1.664139e+09</td>\n",
       "      <td>[what, interference, hostile, media, coverage,...</td>\n",
       "      <td>28</td>\n",
       "      <td>2</td>\n",
       "      <td>7.142857</td>\n",
       "    </tr>\n",
       "    <tr>\n",
       "      <th>3</th>\n",
       "      <td>ipvpcc7</td>\n",
       "      <td>worldnews</td>\n",
       "      <td>We should protest their protest response prote...</td>\n",
       "      <td>1.664135e+09</td>\n",
       "      <td>[their, protest, response, protests, response]</td>\n",
       "      <td>5</td>\n",
       "      <td>0</td>\n",
       "      <td>0.000000</td>\n",
       "    </tr>\n",
       "    <tr>\n",
       "      <th>4</th>\n",
       "      <td>ipvrv10</td>\n",
       "      <td>worldnews</td>\n",
       "      <td>This is the best tl;dr I could make, [original...</td>\n",
       "      <td>1.664136e+09</td>\n",
       "      <td>[this, best, original, https, reuters, world, ...</td>\n",
       "      <td>84</td>\n",
       "      <td>1</td>\n",
       "      <td>1.190476</td>\n",
       "    </tr>\n",
       "  </tbody>\n",
       "</table>\n",
       "</div>"
      ],
      "text/plain": [
       "        id  subreddit                                               body  \\\n",
       "0  ipwiccq  worldnews  > Iran protests Western stance on mass protest...   \n",
       "1  ipvtdwd  worldnews  Iran for the past 40+ years: \"Fuck the west\"  ...   \n",
       "2  ipvyfc3  worldnews  \" ...  over what it called interference and ho...   \n",
       "3  ipvpcc7  worldnews  We should protest their protest response prote...   \n",
       "4  ipvrv10  worldnews  This is the best tl;dr I could make, [original...   \n",
       "\n",
       "        created                                              title  length  \\\n",
       "0  1.664147e+09  [iran, western, stance, mass, protests, woman,...      12   \n",
       "1  1.664137e+09  [iran, past, years, west, west, iranian, gover...       8   \n",
       "2  1.664139e+09  [what, interference, hostile, media, coverage,...      28   \n",
       "3  1.664135e+09     [their, protest, response, protests, response]       5   \n",
       "4  1.664136e+09  [this, best, original, https, reuters, world, ...      84   \n",
       "\n",
       "   hate_score  hate_score_percentage  \n",
       "0           2              16.666667  \n",
       "1           3              37.500000  \n",
       "2           2               7.142857  \n",
       "3           0               0.000000  \n",
       "4           1               1.190476  "
      ]
     },
     "execution_count": 18,
     "metadata": {},
     "output_type": "execute_result"
    }
   ],
   "source": [
    "# Get the percentage of hate score devided by the total length of the comment\n",
    "df['hate_score_percentage'] = df['hate_score'] / df['length'] * 100\n",
    "df.head()"
   ]
  },
  {
   "cell_type": "code",
   "execution_count": 19,
   "metadata": {},
   "outputs": [
    {
     "data": {
      "text/plain": [
       "'3.17%'"
      ]
     },
     "execution_count": 19,
     "metadata": {},
     "output_type": "execute_result"
    }
   ],
   "source": [
    "# get the sum of the total hate score / sum of the total length of the comment * 100\n",
    "percentage_total_hate = df['hate_score'].sum() / df['length'].sum() * 100\n",
    "f\"{percentage_total_hate:.2f}%\""
   ]
  },
  {
   "cell_type": "code",
   "execution_count": null,
   "metadata": {},
   "outputs": [],
   "source": []
  },
  {
   "cell_type": "code",
   "execution_count": null,
   "metadata": {},
   "outputs": [],
   "source": []
  },
  {
   "cell_type": "code",
   "execution_count": 20,
   "metadata": {},
   "outputs": [],
   "source": [
    "# with open(r'C:\\Users\\Scott\\Box\\Shyam\\01_Shyam_Personal\\Text Mining\\Twitter\\glvoe6b\\glove.6B.300d.txt', encoding=\"utf8\") as f:\n",
    "#     text = f.readlines()\n",
    "# f.close()\n",
    "\n",
    "# word_list = [line.strip().split()[0] for line in text]"
   ]
  },
  {
   "cell_type": "code",
   "execution_count": 21,
   "metadata": {},
   "outputs": [],
   "source": [
    "# english_words_only = []\n",
    "# for row in tfidf_ff_dictionary:\n",
    "#     if tfidf_ff_dictionary[row] in word_list:\n",
    "#         english_words_only.append(tfidf_ff_dictionary[row])"
   ]
  },
  {
   "cell_type": "code",
   "execution_count": 22,
   "metadata": {},
   "outputs": [],
   "source": [
    "# make a set of all unique words in Term \n",
    "hate_terms = set()\n",
    "for term in disability_slurs['slurs']:\n",
    "    for word in term.split():\n",
    "        if len(word) < 4:\n",
    "            continue\n",
    "        hate_terms.add(word)"
   ]
  },
  {
   "cell_type": "code",
   "execution_count": 23,
   "metadata": {},
   "outputs": [
    {
     "data": {
      "text/html": [
       "<div>\n",
       "<style scoped>\n",
       "    .dataframe tbody tr th:only-of-type {\n",
       "        vertical-align: middle;\n",
       "    }\n",
       "\n",
       "    .dataframe tbody tr th {\n",
       "        vertical-align: top;\n",
       "    }\n",
       "\n",
       "    .dataframe thead th {\n",
       "        text-align: right;\n",
       "    }\n",
       "</style>\n",
       "<table border=\"1\" class=\"dataframe\">\n",
       "  <thead>\n",
       "    <tr style=\"text-align: right;\">\n",
       "      <th></th>\n",
       "      <th>id</th>\n",
       "      <th>subreddit</th>\n",
       "      <th>body</th>\n",
       "      <th>created</th>\n",
       "      <th>title</th>\n",
       "      <th>length</th>\n",
       "      <th>hate_score</th>\n",
       "      <th>hate_score_percentage</th>\n",
       "      <th>slur_score</th>\n",
       "    </tr>\n",
       "  </thead>\n",
       "  <tbody>\n",
       "    <tr>\n",
       "      <th>0</th>\n",
       "      <td>ipwiccq</td>\n",
       "      <td>worldnews</td>\n",
       "      <td>&gt; Iran protests Western stance on mass protest...</td>\n",
       "      <td>1.664147e+09</td>\n",
       "      <td>[iran, western, stance, mass, protests, woman,...</td>\n",
       "      <td>12</td>\n",
       "      <td>2</td>\n",
       "      <td>16.666667</td>\n",
       "      <td>0</td>\n",
       "    </tr>\n",
       "    <tr>\n",
       "      <th>1</th>\n",
       "      <td>ipvtdwd</td>\n",
       "      <td>worldnews</td>\n",
       "      <td>Iran for the past 40+ years: \"Fuck the west\"  ...</td>\n",
       "      <td>1.664137e+09</td>\n",
       "      <td>[iran, past, years, west, west, iranian, gover...</td>\n",
       "      <td>8</td>\n",
       "      <td>3</td>\n",
       "      <td>37.500000</td>\n",
       "      <td>0</td>\n",
       "    </tr>\n",
       "    <tr>\n",
       "      <th>2</th>\n",
       "      <td>ipvyfc3</td>\n",
       "      <td>worldnews</td>\n",
       "      <td>\" ...  over what it called interference and ho...</td>\n",
       "      <td>1.664139e+09</td>\n",
       "      <td>[what, interference, hostile, media, coverage,...</td>\n",
       "      <td>28</td>\n",
       "      <td>2</td>\n",
       "      <td>7.142857</td>\n",
       "      <td>0</td>\n",
       "    </tr>\n",
       "    <tr>\n",
       "      <th>3</th>\n",
       "      <td>ipvpcc7</td>\n",
       "      <td>worldnews</td>\n",
       "      <td>We should protest their protest response prote...</td>\n",
       "      <td>1.664135e+09</td>\n",
       "      <td>[their, protest, response, protests, response]</td>\n",
       "      <td>5</td>\n",
       "      <td>0</td>\n",
       "      <td>0.000000</td>\n",
       "      <td>0</td>\n",
       "    </tr>\n",
       "    <tr>\n",
       "      <th>4</th>\n",
       "      <td>ipvrv10</td>\n",
       "      <td>worldnews</td>\n",
       "      <td>This is the best tl;dr I could make, [original...</td>\n",
       "      <td>1.664136e+09</td>\n",
       "      <td>[this, best, original, https, reuters, world, ...</td>\n",
       "      <td>84</td>\n",
       "      <td>1</td>\n",
       "      <td>1.190476</td>\n",
       "      <td>0</td>\n",
       "    </tr>\n",
       "  </tbody>\n",
       "</table>\n",
       "</div>"
      ],
      "text/plain": [
       "        id  subreddit                                               body  \\\n",
       "0  ipwiccq  worldnews  > Iran protests Western stance on mass protest...   \n",
       "1  ipvtdwd  worldnews  Iran for the past 40+ years: \"Fuck the west\"  ...   \n",
       "2  ipvyfc3  worldnews  \" ...  over what it called interference and ho...   \n",
       "3  ipvpcc7  worldnews  We should protest their protest response prote...   \n",
       "4  ipvrv10  worldnews  This is the best tl;dr I could make, [original...   \n",
       "\n",
       "        created                                              title  length  \\\n",
       "0  1.664147e+09  [iran, western, stance, mass, protests, woman,...      12   \n",
       "1  1.664137e+09  [iran, past, years, west, west, iranian, gover...       8   \n",
       "2  1.664139e+09  [what, interference, hostile, media, coverage,...      28   \n",
       "3  1.664135e+09     [their, protest, response, protests, response]       5   \n",
       "4  1.664136e+09  [this, best, original, https, reuters, world, ...      84   \n",
       "\n",
       "   hate_score  hate_score_percentage  slur_score  \n",
       "0           2              16.666667           0  \n",
       "1           3              37.500000           0  \n",
       "2           2               7.142857           0  \n",
       "3           0               0.000000           0  \n",
       "4           1               1.190476           0  "
      ]
     },
     "execution_count": 23,
     "metadata": {},
     "output_type": "execute_result"
    }
   ],
   "source": [
    "# check if the comments contain any of the hate words\n",
    "hate_score = []\n",
    "for comment in df['title']:\n",
    "    hate_count = 0\n",
    "    for content in comment:\n",
    "        for word in hate_terms:\n",
    "            if word in content:\n",
    "                hate_count += 1\n",
    "\n",
    "    hate_score.append(hate_count)\n",
    "\n",
    "# add the hate score to the dataframe\n",
    "df['slur_score'] = hate_score\n",
    "df.head()"
   ]
  },
  {
   "cell_type": "code",
   "execution_count": 24,
   "metadata": {},
   "outputs": [
    {
     "data": {
      "text/html": [
       "<div>\n",
       "<style scoped>\n",
       "    .dataframe tbody tr th:only-of-type {\n",
       "        vertical-align: middle;\n",
       "    }\n",
       "\n",
       "    .dataframe tbody tr th {\n",
       "        vertical-align: top;\n",
       "    }\n",
       "\n",
       "    .dataframe thead th {\n",
       "        text-align: right;\n",
       "    }\n",
       "</style>\n",
       "<table border=\"1\" class=\"dataframe\">\n",
       "  <thead>\n",
       "    <tr style=\"text-align: right;\">\n",
       "      <th></th>\n",
       "      <th>id</th>\n",
       "      <th>subreddit</th>\n",
       "      <th>body</th>\n",
       "      <th>created</th>\n",
       "      <th>title</th>\n",
       "      <th>length</th>\n",
       "      <th>hate_score</th>\n",
       "      <th>hate_score_percentage</th>\n",
       "      <th>slur_score</th>\n",
       "    </tr>\n",
       "  </thead>\n",
       "  <tbody>\n",
       "    <tr>\n",
       "      <th>3442</th>\n",
       "      <td>iro0lqm</td>\n",
       "      <td>worldnews</td>\n",
       "      <td>**[Commonwealth of Nations](https://en.m.wikip...</td>\n",
       "      <td>1.665341e+09</td>\n",
       "      <td>[commonwealth, nations, https, wikipedia, wiki...</td>\n",
       "      <td>156</td>\n",
       "      <td>9</td>\n",
       "      <td>5.769231</td>\n",
       "      <td>7</td>\n",
       "    </tr>\n",
       "  </tbody>\n",
       "</table>\n",
       "</div>"
      ],
      "text/plain": [
       "           id  subreddit                                               body  \\\n",
       "3442  iro0lqm  worldnews  **[Commonwealth of Nations](https://en.m.wikip...   \n",
       "\n",
       "           created                                              title  length  \\\n",
       "3442  1.665341e+09  [commonwealth, nations, https, wikipedia, wiki...     156   \n",
       "\n",
       "      hate_score  hate_score_percentage  slur_score  \n",
       "3442           9               5.769231           7  "
      ]
     },
     "execution_count": 24,
     "metadata": {},
     "output_type": "execute_result"
    }
   ],
   "source": [
    "# get the top 5 rows with the highest hate score\n",
    "df.sort_values(by='slur_score', ascending=False).head(1)"
   ]
  },
  {
   "cell_type": "code",
   "execution_count": 25,
   "metadata": {},
   "outputs": [],
   "source": [
    "# Get the percentage of hate score devided by the total length of the comment\n",
    "df['slur_score_percentage'] = df['slur_score'] / df['length'] * 100\n"
   ]
  },
  {
   "cell_type": "code",
   "execution_count": 26,
   "metadata": {},
   "outputs": [
    {
     "data": {
      "text/plain": [
       "'0.63%'"
      ]
     },
     "execution_count": 26,
     "metadata": {},
     "output_type": "execute_result"
    }
   ],
   "source": [
    "# get the sum of the total hate score / sum of the total length of the comment * 100\n",
    "percentage_total_hate = df['slur_score'].sum() / df['length'].sum() * 100\n",
    "f\"{percentage_total_hate:.2f}%\""
   ]
  }
 ],
 "metadata": {
  "kernelspec": {
   "display_name": "Python 3.9.12 ('base')",
   "language": "python",
   "name": "python3"
  },
  "language_info": {
   "codemirror_mode": {
    "name": "ipython",
    "version": 3
   },
   "file_extension": ".py",
   "mimetype": "text/x-python",
   "name": "python",
   "nbconvert_exporter": "python",
   "pygments_lexer": "ipython3",
   "version": "3.9.12"
  },
  "orig_nbformat": 4,
  "vscode": {
   "interpreter": {
    "hash": "40d3a090f54c6569ab1632332b64b2c03c39dcf918b08424e98f38b5ae0af88f"
   }
  }
 },
 "nbformat": 4,
 "nbformat_minor": 2
}
